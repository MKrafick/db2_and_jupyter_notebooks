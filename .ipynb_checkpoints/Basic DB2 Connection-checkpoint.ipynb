{
 "cells": [
  {
   "cell_type": "markdown",
   "metadata": {},
   "source": [
    "This notebook should be launched from a session of jupyter notebook that was launched from a DB2 command window\n",
    "To do this, run an administrator DB2 command window as an administrator and type 'jupyter notebook'\n",
    "\n",
    "Set up the enviornment:"
   ]
  },
  {
   "cell_type": "code",
   "execution_count": 2,
   "metadata": {
    "collapsed": false
   },
   "outputs": [
    {
     "name": "stdout",
     "output_type": "stream",
     "text": [
      "Requirement already satisfied: ipython-sql in c:\\users\\ecrooks\\anaconda3\\lib\\site-packages\n",
      "Requirement already satisfied: sqlparse in c:\\users\\ecrooks\\anaconda3\\lib\\site-packages (from ipython-sql)\n",
      "Requirement already satisfied: six in c:\\users\\ecrooks\\anaconda3\\lib\\site-packages (from ipython-sql)\n",
      "Requirement already satisfied: prettytable in c:\\users\\ecrooks\\anaconda3\\lib\\site-packages (from ipython-sql)\n",
      "Requirement already satisfied: ipython>=1.0 in c:\\users\\ecrooks\\anaconda3\\lib\\site-packages (from ipython-sql)\n",
      "Requirement already satisfied: ipython-genutils>=0.1.0 in c:\\users\\ecrooks\\anaconda3\\lib\\site-packages (from ipython-sql)\n",
      "Requirement already satisfied: sqlalchemy>=0.6.7 in c:\\users\\ecrooks\\anaconda3\\lib\\site-packages (from ipython-sql)\n",
      "Requirement already satisfied: ibm_db in c:\\users\\ecrooks\\appdata\\roaming\\python\\python36\\site-packages\n",
      "Requirement already satisfied: ibm_db_sa in c:\\users\\ecrooks\\appdata\\roaming\\python\\python36\\site-packages\n",
      "Requirement already satisfied: sqlalchemy>=0.7.3 in c:\\users\\ecrooks\\anaconda3\\lib\\site-packages (from ibm_db_sa)\n"
     ]
    }
   ],
   "source": [
    "import sys,os,os.path\n",
    "os.environ['IBM_DB_HOME']='C:\\Program Files\\IBM\\SQLLIB'\n",
    "!pip install ipython-sql\n",
    "!pip install ibm_db \n",
    "!pip install ibm_db_sa"
   ]
  },
  {
   "cell_type": "markdown",
   "metadata": {},
   "source": [
    "Restart the Kernel if this is your first time installing the above. The next steps will fail unless you do this."
   ]
  },
  {
   "cell_type": "markdown",
   "metadata": {},
   "source": [
    "Import the modules and load the SQL magic"
   ]
  },
  {
   "cell_type": "code",
   "execution_count": 3,
   "metadata": {
    "collapsed": false
   },
   "outputs": [],
   "source": [
    "import ibm_db\n",
    "import ibm_db_sa\n",
    "import sqlalchemy\n",
    "%load_ext sql"
   ]
  },
  {
   "cell_type": "markdown",
   "metadata": {},
   "source": [
    "Connect to the database. Change the values of user, host, and password to match your environment. For connection to a local host, use 'localhost' for the host name. Also change the port number and database name in the connection string."
   ]
  },
  {
   "cell_type": "code",
   "execution_count": 4,
   "metadata": {
    "collapsed": false
   },
   "outputs": [
    {
     "data": {
      "text/plain": [
       "'Connected: db2admin@SAMPLE'"
      ]
     },
     "execution_count": 4,
     "metadata": {},
     "output_type": "execute_result"
    }
   ],
   "source": [
    "user='db2admin'\n",
    "host='localhost'\n",
    "# Define filename for passwords\n",
    "filename = 'ember_variables.py'\n",
    "# source the file\n",
    "%run $filename\n",
    "password = LocalDB2password\n",
    "\n",
    "%sql db2+ibm_db://$user:$password@$host:50000/SAMPLE"
   ]
  },
  {
   "cell_type": "code",
   "execution_count": null,
   "metadata": {
    "collapsed": true
   },
   "outputs": [],
   "source": []
  }
 ],
 "metadata": {
  "anaconda-cloud": {},
  "kernelspec": {
   "display_name": "Python 3",
   "language": "python",
   "name": "python3"
  },
  "language_info": {
   "codemirror_mode": {
    "name": "ipython",
    "version": 3
   },
   "file_extension": ".py",
   "mimetype": "text/x-python",
   "name": "python",
   "nbconvert_exporter": "python",
   "pygments_lexer": "ipython3",
   "version": "3.6.0"
  }
 },
 "nbformat": 4,
 "nbformat_minor": 1
}
