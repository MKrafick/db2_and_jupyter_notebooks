{
 "cells": [
  {
   "cell_type": "markdown",
   "metadata": {},
   "source": [
    "# Hello, _nbpresent_!"
   ]
  },
  {
   "cell_type": "code",
   "execution_count": null,
   "metadata": {
    "collapsed": true
   },
   "outputs": [],
   "source": [
    "import nbpresent\n",
    "nbpresent.__version__"
   ]
  },
  {
   "cell_type": "markdown",
   "metadata": {
    "nbpresent": {
     "id": "9b43f362-3c2a-437a-b0bc-173a90c6cf95"
    }
   },
   "source": [
    "# DB2 Symposium 2017\n",
    "\n",
    "# DB2 Security, Performance, and a Touch of Cloud"
   ]
  },
  {
   "cell_type": "markdown",
   "metadata": {
    "nbpresent": {
     "id": "d46de732-8785-4f86-891a-ba81ce2f3017"
    }
   },
   "source": [
    "## Setting up this Jupyter Notebook"
   ]
  },
  {
   "cell_type": "markdown",
   "metadata": {
    "nbpresent": {
     "id": "43dd3a53-43a9-4649-8082-4cd7fec217ab"
    }
   },
   "source": [
    "This notebook should be launched from a session of jupyter notebook that was launched from a DB2 command window\n",
    "To do this, run an administrator DB2 command window as an administrator and type 'jupyter notebook'\n",
    "\n",
    "Set up the enviornment:"
   ]
  },
  {
   "cell_type": "code",
   "execution_count": null,
   "metadata": {
    "collapsed": false
   },
   "outputs": [],
   "source": [
    "os.environ['DB2INSTANCE']"
   ]
  },
  {
   "cell_type": "code",
   "execution_count": null,
   "metadata": {
    "collapsed": false,
    "nbpresent": {
     "id": "95241d45-433d-4496-8f39-d0f837d8b996"
    }
   },
   "outputs": [],
   "source": [
    "import sys,os,os.path\n",
    "os.environ['IBM_DB_HOME']='C:\\Program Files\\IBM\\SQLLIB_01'\n",
    "!pip install ipython-sql\n",
    "!pip install ibm_db \n",
    "!pip install ibm_db_sa"
   ]
  },
  {
   "cell_type": "markdown",
   "metadata": {
    "nbpresent": {
     "id": "ab685115-6255-4892-9384-f0253ba1f721"
    }
   },
   "source": [
    "Restart the Kernel if this is your first time installing the above. The next steps will fail unless you do this."
   ]
  },
  {
   "cell_type": "markdown",
   "metadata": {
    "nbpresent": {
     "id": "70182fca-ecdb-4715-8bb9-ac83896863f2"
    }
   },
   "source": [
    "Import the modules and load the SQL magic"
   ]
  },
  {
   "cell_type": "code",
   "execution_count": 1,
   "metadata": {
    "collapsed": false,
    "nbpresent": {
     "id": "260b111a-56b1-4fca-a537-87f9e6228f8a"
    }
   },
   "outputs": [],
   "source": [
    "import sys,os,os.path\n",
    "#os.environ['DB2INSTANCE']='DB2_01'\n",
    "#os.environ['DB2PATH']='C:\\Program Files\\IBM\\SQLLIB_01'\n",
    "import ibm_db\n",
    "import ibm_db_sa\n",
    "import sqlalchemy\n",
    "%load_ext sql"
   ]
  },
  {
   "cell_type": "markdown",
   "metadata": {
    "nbpresent": {
     "id": "63650235-818b-4e16-a2ca-3135c3eb289a"
    }
   },
   "source": [
    "Connect to the database. Change the values of user, host, and password to match your environment. For connection to a local host, use 'localhost' for the host name. Also change the port number and database name in the connection string."
   ]
  },
  {
   "cell_type": "code",
   "execution_count": 2,
   "metadata": {
    "collapsed": false,
    "nbpresent": {
     "id": "3b5451a6-6da4-4599-92cf-6ab4827d0991"
    }
   },
   "outputs": [
    {
     "data": {
      "text/plain": [
       "'Connected: db2admin@SAMPLE'"
      ]
     },
     "execution_count": 2,
     "metadata": {},
     "output_type": "execute_result"
    }
   ],
   "source": [
    "user='db2admin'\n",
    "host='localhost'\n",
    "password=\"\"\"db2admin\"\"\"\n",
    "%sql db2+ibm_db://$user:$password@$host:50001/SAMPLE"
   ]
  },
  {
   "cell_type": "markdown",
   "metadata": {},
   "source": [
    "## SQL from this Presentation"
   ]
  },
  {
   "cell_type": "markdown",
   "metadata": {
    "nbpresent": {
     "id": "bafe0ab8-3cb8-4171-a8e3-00b56f6de6e7"
    }
   },
   "source": [
    "### The Basics of DB2 Security"
   ]
  },
  {
   "cell_type": "markdown",
   "metadata": {},
   "source": [
    "#### Listing Instance-Level Authority Groups"
   ]
  },
  {
   "cell_type": "code",
   "execution_count": 3,
   "metadata": {
    "collapsed": false
   },
   "outputs": [
    {
     "name": "stdout",
     "output_type": "stream",
     "text": [
      "Done.\n"
     ]
    },
    {
     "data": {
      "text/html": [
       "<table>\n",
       "    <tr>\n",
       "        <th>name</th>\n",
       "        <th>VALUE</th>\n",
       "        <th>deferred</th>\n",
       "    </tr>\n",
       "    <tr>\n",
       "        <td>sysadm_group</td>\n",
       "        <td>DB2ADMNS                 </td>\n",
       "        <td>DB2ADMNS                 </td>\n",
       "    </tr>\n",
       "    <tr>\n",
       "        <td>sysctrl_group</td>\n",
       "        <td>None</td>\n",
       "        <td>None</td>\n",
       "    </tr>\n",
       "    <tr>\n",
       "        <td>sysmaint_group</td>\n",
       "        <td>None</td>\n",
       "        <td>None</td>\n",
       "    </tr>\n",
       "    <tr>\n",
       "        <td>sysmon_group</td>\n",
       "        <td>DB2MON                   </td>\n",
       "        <td>DB2MON                   </td>\n",
       "    </tr>\n",
       "</table>"
      ],
      "text/plain": [
       "[('sysadm_group', 'DB2ADMNS                 ', 'DB2ADMNS                 '),\n",
       " ('sysctrl_group', None, None),\n",
       " ('sysmaint_group', None, None),\n",
       " ('sysmon_group', 'DB2MON                   ', 'DB2MON                   ')]"
      ]
     },
     "execution_count": 3,
     "metadata": {},
     "output_type": "execute_result"
    }
   ],
   "source": [
    "%sql SELECT NAME \\\n",
    "\t, substr(VALUE,1,25) as value \\\n",
    "\t, substr(DEFERRED_VALUE,1,25) as deferred FROM SYSIBMADM.DBMCFG \\\n",
    "WHERE NAME LIKE '%_group'"
   ]
  },
  {
   "cell_type": "markdown",
   "metadata": {},
   "source": [
    "#### Investigating Database-Level Authorities and Permissions\n",
    "##### List IDs with Explicit CONNECT"
   ]
  },
  {
   "cell_type": "code",
   "execution_count": 4,
   "metadata": {
    "collapsed": false
   },
   "outputs": [
    {
     "name": "stdout",
     "output_type": "stream",
     "text": [
      "Done.\n"
     ]
    },
    {
     "data": {
      "text/html": [
       "<table>\n",
       "    <tr>\n",
       "        <th>grantee</th>\n",
       "    </tr>\n",
       "</table>"
      ],
      "text/plain": [
       "[]"
      ]
     },
     "execution_count": 4,
     "metadata": {},
     "output_type": "execute_result"
    }
   ],
   "source": [
    "%sql select grantee \\\n",
    "from syscat.dbauth \\\n",
    "where connectauth='Y'"
   ]
  },
  {
   "cell_type": "markdown",
   "metadata": {},
   "source": [
    "##### List Specific Database Authorities and Permissions for a Specific User"
   ]
  },
  {
   "cell_type": "code",
   "execution_count": 5,
   "metadata": {
    "collapsed": false
   },
   "outputs": [
    {
     "name": "stdout",
     "output_type": "stream",
     "text": [
      "Done.\n"
     ]
    },
    {
     "data": {
      "text/html": [
       "<table>\n",
       "    <tr>\n",
       "        <th>dbadmauth</th>\n",
       "        <th>connectauth</th>\n",
       "        <th>dataaccessauth</th>\n",
       "        <th>securityadmauth</th>\n",
       "    </tr>\n",
       "    <tr>\n",
       "        <td>Y</td>\n",
       "        <td>N</td>\n",
       "        <td>Y</td>\n",
       "        <td>Y</td>\n",
       "    </tr>\n",
       "</table>"
      ],
      "text/plain": [
       "[('Y', 'N', 'Y', 'Y')]"
      ]
     },
     "execution_count": 5,
     "metadata": {},
     "output_type": "execute_result"
    }
   ],
   "source": [
    "check_id='ECROOKS'\n",
    "%sql select dbadmauth \\\n",
    "\t, connectauth \\\n",
    "\t, dataaccessauth \\\n",
    "    , securityadmauth \\\n",
    "from syscat.dbauth \\\n",
    "where grantee='$check_id'"
   ]
  },
  {
   "cell_type": "markdown",
   "metadata": {},
   "source": [
    "##### List Database Authorities and Permissions for All Users/Groups/Roles"
   ]
  },
  {
   "cell_type": "code",
   "execution_count": 6,
   "metadata": {
    "collapsed": false
   },
   "outputs": [
    {
     "name": "stdout",
     "output_type": "stream",
     "text": [
      "Done.\n"
     ]
    },
    {
     "data": {
      "text/html": [
       "<table>\n",
       "    <tr>\n",
       "        <th>grantee</th>\n",
       "        <th>dbadm</th>\n",
       "        <th>conn</th>\n",
       "        <th>dataaccess</th>\n",
       "        <th>bindadd</th>\n",
       "        <th>createtab</th>\n",
       "        <th>extroutine</th>\n",
       "        <th>implschema</th>\n",
       "        <th>load</th>\n",
       "        <th>nofence</th>\n",
       "        <th>quiesceconn</th>\n",
       "        <th>secadm</th>\n",
       "        <th>wlmadm</th>\n",
       "        <th>EXPLAIN</th>\n",
       "        <th>accessctrl</th>\n",
       "    </tr>\n",
       "    <tr>\n",
       "        <td>DB2ADMIN</td>\n",
       "        <td>Y</td>\n",
       "        <td>N</td>\n",
       "        <td>Y</td>\n",
       "        <td>N</td>\n",
       "        <td>N</td>\n",
       "        <td>N</td>\n",
       "        <td>N</td>\n",
       "        <td>N</td>\n",
       "        <td>N</td>\n",
       "        <td>N</td>\n",
       "        <td>Y</td>\n",
       "        <td>N</td>\n",
       "        <td>N</td>\n",
       "        <td>Y</td>\n",
       "    </tr>\n",
       "    <tr>\n",
       "        <td>PUBLIC  </td>\n",
       "        <td>N</td>\n",
       "        <td>N</td>\n",
       "        <td>N</td>\n",
       "        <td>Y</td>\n",
       "        <td>Y</td>\n",
       "        <td>N</td>\n",
       "        <td>Y</td>\n",
       "        <td>N</td>\n",
       "        <td>N</td>\n",
       "        <td>N</td>\n",
       "        <td>N</td>\n",
       "        <td>N</td>\n",
       "        <td>N</td>\n",
       "        <td>N</td>\n",
       "    </tr>\n",
       "    <tr>\n",
       "        <td>ECROOKS </td>\n",
       "        <td>Y</td>\n",
       "        <td>N</td>\n",
       "        <td>Y</td>\n",
       "        <td>N</td>\n",
       "        <td>N</td>\n",
       "        <td>N</td>\n",
       "        <td>N</td>\n",
       "        <td>N</td>\n",
       "        <td>N</td>\n",
       "        <td>N</td>\n",
       "        <td>Y</td>\n",
       "        <td>N</td>\n",
       "        <td>N</td>\n",
       "        <td>Y</td>\n",
       "    </tr>\n",
       "    <tr>\n",
       "        <td>WCS_ADMIN</td>\n",
       "        <td>Y</td>\n",
       "        <td>N</td>\n",
       "        <td>Y</td>\n",
       "        <td>N</td>\n",
       "        <td>N</td>\n",
       "        <td>N</td>\n",
       "        <td>N</td>\n",
       "        <td>N</td>\n",
       "        <td>N</td>\n",
       "        <td>N</td>\n",
       "        <td>N</td>\n",
       "        <td>N</td>\n",
       "        <td>N</td>\n",
       "        <td>Y</td>\n",
       "    </tr>\n",
       "    <tr>\n",
       "        <td>DB2ADMIN</td>\n",
       "        <td>N</td>\n",
       "        <td>N</td>\n",
       "        <td>N</td>\n",
       "        <td>N</td>\n",
       "        <td>N</td>\n",
       "        <td>N</td>\n",
       "        <td>N</td>\n",
       "        <td>N</td>\n",
       "        <td>N</td>\n",
       "        <td>N</td>\n",
       "        <td>Y</td>\n",
       "        <td>N</td>\n",
       "        <td>N</td>\n",
       "        <td>N</td>\n",
       "    </tr>\n",
       "</table>"
      ],
      "text/plain": [
       "[('DB2ADMIN', 'Y', 'N', 'Y', 'N', 'N', 'N', 'N', 'N', 'N', 'N', 'Y', 'N', 'N', 'Y'),\n",
       " ('PUBLIC  ', 'N', 'N', 'N', 'Y', 'Y', 'N', 'Y', 'N', 'N', 'N', 'N', 'N', 'N', 'N'),\n",
       " ('ECROOKS ', 'Y', 'N', 'Y', 'N', 'N', 'N', 'N', 'N', 'N', 'N', 'Y', 'N', 'N', 'Y'),\n",
       " ('WCS_ADMIN', 'Y', 'N', 'Y', 'N', 'N', 'N', 'N', 'N', 'N', 'N', 'N', 'N', 'N', 'Y'),\n",
       " ('DB2ADMIN', 'N', 'N', 'N', 'N', 'N', 'N', 'N', 'N', 'N', 'N', 'Y', 'N', 'N', 'N')]"
      ]
     },
     "execution_count": 6,
     "metadata": {},
     "output_type": "execute_result"
    }
   ],
   "source": [
    "%sql select grantee \\\n",
    "    , dbadmauth as dbadm \\\n",
    "    , connectauth as conn \\\n",
    "    , dataaccessauth as dataaccess \\\n",
    "    , bindaddauth as bindadd \\\n",
    "    , createtabauth as createtab \\\n",
    "    , externalroutineauth as extroutine \\\n",
    "    , implschemaauth as implschema \\\n",
    "    , loadauth as load \\\n",
    "    , nofenceauth as nofence \\\n",
    "    , quiesceconnectauth as quiesceconn \\\n",
    "    , securityadmauth as secadm \\\n",
    "    , wlmadmauth as wlmadm \\\n",
    "    , explainauth as explain \\\n",
    "    , accessctrlauth as accessctrl \\\n",
    "from syscat.dbauth "
   ]
  },
  {
   "cell_type": "markdown",
   "metadata": {},
   "source": [
    "#### Investigating Object-Level Permissions"
   ]
  },
  {
   "cell_type": "markdown",
   "metadata": {},
   "source": [
    "##### List Certain Table Permissions for a Specific User"
   ]
  },
  {
   "cell_type": "code",
   "execution_count": 7,
   "metadata": {
    "collapsed": false,
    "scrolled": true
   },
   "outputs": [
    {
     "name": "stdout",
     "output_type": "stream",
     "text": [
      "Done.\n"
     ]
    },
    {
     "data": {
      "text/html": [
       "<table>\n",
       "    <tr>\n",
       "        <th>tabschema</th>\n",
       "        <th>tabname</th>\n",
       "        <th>controlauth</th>\n",
       "        <th>deleteauth</th>\n",
       "        <th>insertauth</th>\n",
       "        <th>selectauth</th>\n",
       "        <th>updateauth</th>\n",
       "    </tr>\n",
       "    <tr>\n",
       "        <td>ECROOKS </td>\n",
       "        <td>ACTIVITYMETRICS_ACT_STMT</td>\n",
       "        <td>Y</td>\n",
       "        <td>G</td>\n",
       "        <td>G</td>\n",
       "        <td>G</td>\n",
       "        <td>G</td>\n",
       "    </tr>\n",
       "    <tr>\n",
       "        <td>ECROOKS </td>\n",
       "        <td>ACTIVITYSTMT_ACT_STMT</td>\n",
       "        <td>Y</td>\n",
       "        <td>G</td>\n",
       "        <td>G</td>\n",
       "        <td>G</td>\n",
       "        <td>G</td>\n",
       "    </tr>\n",
       "    <tr>\n",
       "        <td>ECROOKS </td>\n",
       "        <td>ACTIVITYVALS_ACT_STMT</td>\n",
       "        <td>Y</td>\n",
       "        <td>G</td>\n",
       "        <td>G</td>\n",
       "        <td>G</td>\n",
       "        <td>G</td>\n",
       "    </tr>\n",
       "    <tr>\n",
       "        <td>ECROOKS </td>\n",
       "        <td>ACTIVITY_ACT_STMT</td>\n",
       "        <td>Y</td>\n",
       "        <td>G</td>\n",
       "        <td>G</td>\n",
       "        <td>G</td>\n",
       "        <td>G</td>\n",
       "    </tr>\n",
       "    <tr>\n",
       "        <td>ECROOKS </td>\n",
       "        <td>CONTROL_ACT_STMT</td>\n",
       "        <td>Y</td>\n",
       "        <td>G</td>\n",
       "        <td>G</td>\n",
       "        <td>G</td>\n",
       "        <td>G</td>\n",
       "    </tr>\n",
       "    <tr>\n",
       "        <td>ECROOKS </td>\n",
       "        <td>T1</td>\n",
       "        <td>Y</td>\n",
       "        <td>G</td>\n",
       "        <td>G</td>\n",
       "        <td>G</td>\n",
       "        <td>G</td>\n",
       "    </tr>\n",
       "    <tr>\n",
       "        <td>ECROOKS </td>\n",
       "        <td>T2</td>\n",
       "        <td>Y</td>\n",
       "        <td>G</td>\n",
       "        <td>G</td>\n",
       "        <td>G</td>\n",
       "        <td>G</td>\n",
       "    </tr>\n",
       "    <tr>\n",
       "        <td>SYSTOOLS</td>\n",
       "        <td>STMG_DBSIZE_INFO</td>\n",
       "        <td>Y</td>\n",
       "        <td>G</td>\n",
       "        <td>G</td>\n",
       "        <td>G</td>\n",
       "        <td>G</td>\n",
       "    </tr>\n",
       "</table>"
      ],
      "text/plain": [
       "[('ECROOKS ', 'ACTIVITYMETRICS_ACT_STMT', 'Y', 'G', 'G', 'G', 'G'),\n",
       " ('ECROOKS ', 'ACTIVITYSTMT_ACT_STMT', 'Y', 'G', 'G', 'G', 'G'),\n",
       " ('ECROOKS ', 'ACTIVITYVALS_ACT_STMT', 'Y', 'G', 'G', 'G', 'G'),\n",
       " ('ECROOKS ', 'ACTIVITY_ACT_STMT', 'Y', 'G', 'G', 'G', 'G'),\n",
       " ('ECROOKS ', 'CONTROL_ACT_STMT', 'Y', 'G', 'G', 'G', 'G'),\n",
       " ('ECROOKS ', 'T1', 'Y', 'G', 'G', 'G', 'G'),\n",
       " ('ECROOKS ', 'T2', 'Y', 'G', 'G', 'G', 'G'),\n",
       " ('SYSTOOLS', 'STMG_DBSIZE_INFO', 'Y', 'G', 'G', 'G', 'G')]"
      ]
     },
     "execution_count": 7,
     "metadata": {},
     "output_type": "execute_result"
    }
   ],
   "source": [
    "check_id='ECROOKS'\n",
    "%sql select tabschema \\\n",
    "    , tabname \\\n",
    "    , controlauth \\\n",
    "    , deleteauth \\\n",
    "    , insertauth \\\n",
    "    , selectauth \\\n",
    "    , updateauth \\\n",
    "from syscat.tabauth \\\n",
    "where grantee='$check_id'"
   ]
  },
  {
   "cell_type": "markdown",
   "metadata": {},
   "source": [
    "##### List Users and Certain Permissions for a Specific Table"
   ]
  },
  {
   "cell_type": "code",
   "execution_count": 8,
   "metadata": {
    "collapsed": false
   },
   "outputs": [
    {
     "name": "stdout",
     "output_type": "stream",
     "text": [
      "Done.\n"
     ]
    },
    {
     "data": {
      "text/html": [
       "<table>\n",
       "    <tr>\n",
       "        <th>grantee</th>\n",
       "        <th>controlauth</th>\n",
       "        <th>deleteauth</th>\n",
       "        <th>insertauth</th>\n",
       "        <th>selectauth</th>\n",
       "        <th>updateauth</th>\n",
       "    </tr>\n",
       "</table>"
      ],
      "text/plain": [
       "[]"
      ]
     },
     "execution_count": 8,
     "metadata": {},
     "output_type": "execute_result"
    }
   ],
   "source": [
    "check_tabschema='ECROOKS' \n",
    "check_tabname='SALES' \n",
    "%sql select grantee \\\n",
    "    , controlauth \\\n",
    "    , deleteauth \\\n",
    "    , insertauth \\\n",
    "    , selectauth \\\n",
    "    , updateauth \\\n",
    "from syscat.tabauth \\\n",
    "where tabschema='$check_tabschema' \\\n",
    "    and tabname='$check_tabname'"
   ]
  },
  {
   "cell_type": "markdown",
   "metadata": {},
   "source": [
    "### Label-Based Access Control"
   ]
  },
  {
   "cell_type": "markdown",
   "metadata": {},
   "source": [
    "#### Create Security Label Component"
   ]
  },
  {
   "cell_type": "code",
   "execution_count": null,
   "metadata": {
    "collapsed": false
   },
   "outputs": [],
   "source": [
    "%sql create security label component reg_sec_comp tree ('UNRESTRICTED' ROOT, \\\n",
    "'MANITOBA' under 'UNRESTRICTED', \\\n",
    "'ONTARIO' under 'UNRESTRICTED', \\\n",
    "'Quebec' under 'UNRESTRICTED')"
   ]
  },
  {
   "cell_type": "markdown",
   "metadata": {},
   "source": [
    "#### Create Security Policy"
   ]
  },
  {
   "cell_type": "code",
   "execution_count": null,
   "metadata": {
    "collapsed": false
   },
   "outputs": [],
   "source": [
    "%sql create security policy sec_policy components reg_sec_comp with db2lbacrules"
   ]
  },
  {
   "cell_type": "markdown",
   "metadata": {},
   "source": [
    "#### Create Security Labels"
   ]
  },
  {
   "cell_type": "code",
   "execution_count": null,
   "metadata": {
    "collapsed": false
   },
   "outputs": [],
   "source": [
    "%sql create security label sec_policy.manitoba component reg_sec_comp 'MANITOBA'\n",
    "%sql create security label sec_policy.ontario component reg_sec_comp 'ONTARIO'\n",
    "%sql create security label sec_policy.quebec component reg_sec_comp 'QUEBEC'\n",
    "%sql create security label sec_policy.quebec component reg_sec_comp 'Quebec'\n",
    "%sql create security label sec_policy.unrestricted component reg_sec_comp 'UNRESTRICTED'"
   ]
  },
  {
   "cell_type": "markdown",
   "metadata": {},
   "source": [
    "#### Alter Table to add Security Policy and Column"
   ]
  },
  {
   "cell_type": "code",
   "execution_count": null,
   "metadata": {
    "collapsed": false
   },
   "outputs": [],
   "source": [
    "%sql alter table db2admin.sales add column sec_label DB2SECURITYLABEL add security policy sec_policy"
   ]
  },
  {
   "cell_type": "markdown",
   "metadata": {},
   "source": [
    "#### Viewing the Table as an Unrestricted User"
   ]
  },
  {
   "cell_type": "code",
   "execution_count": null,
   "metadata": {
    "collapsed": false
   },
   "outputs": [],
   "source": [
    "%sql select SALES_DATE \\\n",
    "\t, SALES_PERSON \\\n",
    "\t, REGION \\\n",
    "\t, SALES \\\n",
    "\t, substr(SECLABEL_TO_CHAR('SEC_POLICY', SEC_LABEL),1,30) as sec_label \\\n",
    "from db2admin.sales"
   ]
  },
  {
   "cell_type": "markdown",
   "metadata": {},
   "source": [
    "#### Update Rows to Include Values for Security Label Column"
   ]
  },
  {
   "cell_type": "code",
   "execution_count": null,
   "metadata": {
    "collapsed": false
   },
   "outputs": [],
   "source": [
    "%sql update db2admin.sales set sec_label = SECLABEL_BY_NAME('SEC_POLICY', 'MANITOBA') where region = 'Manitoba';\n",
    "%sql update db2admin.sales set sec_label = SECLABEL_BY_NAME('SEC_POLICY', 'ONTARIO') where region like 'Ontario%';\n",
    "%sql update db2admin.sales set sec_label = SECLABEL_BY_NAME('SEC_POLICY', 'Quebec') where region = 'Quebec';\n",
    "%sql update db2admin.sales set sec_label = SECLABEL_BY_NAME('SEC_POLICY', 'QUEBEC') where region = 'Quebec';"
   ]
  },
  {
   "cell_type": "markdown",
   "metadata": {},
   "source": [
    "#### Viewing the Table as an Unrestricted User"
   ]
  },
  {
   "cell_type": "code",
   "execution_count": null,
   "metadata": {
    "collapsed": false
   },
   "outputs": [],
   "source": [
    "%sql select SALES_DATE \\\n",
    "\t, SALES_PERSON \\\n",
    "\t, REGION \\\n",
    "\t, SALES \\\n",
    "\t, substr(SECLABEL_TO_CHAR('SEC_POLICY', SEC_LABEL),1,30) as sec_label \\\n",
    "from db2admin.sales\n"
   ]
  },
  {
   "cell_type": "markdown",
   "metadata": {},
   "source": [
    "#### Discovering Existing Exemptions"
   ]
  },
  {
   "cell_type": "code",
   "execution_count": null,
   "metadata": {
    "collapsed": false
   },
   "outputs": [],
   "source": [
    "%sql SELECT A.grantee \\\n",
    "\t, A.accessrulename \\\n",
    "\t, B.secpolicyname \\\n",
    "FROM syscat.securitypolicyexemptions A \\\n",
    "\tjoin syscat.securitypolicies B \\\n",
    "\t\ton A.secpolicyid = B.secpolicyid"
   ]
  },
  {
   "cell_type": "code",
   "execution_count": null,
   "metadata": {
    "collapsed": false
   },
   "outputs": [],
   "source": [
    "%sql select * from systools.explain_instance"
   ]
  },
  {
   "cell_type": "markdown",
   "metadata": {},
   "source": [
    "### Row and Column Access Control (RCAC) or Fine-Grained Access Control (FGAC)"
   ]
  },
  {
   "cell_type": "code",
   "execution_count": null,
   "metadata": {
    "collapsed": false
   },
   "outputs": [],
   "source": []
  },
  {
   "cell_type": "code",
   "execution_count": null,
   "metadata": {
    "collapsed": true
   },
   "outputs": [],
   "source": []
  },
  {
   "cell_type": "markdown",
   "metadata": {
    "nbpresent": {
     "id": "1bba32b6-b80a-4b4b-996f-cb9e50713343"
    }
   },
   "source": [
    "## Jupyter Notebook"
   ]
  },
  {
   "cell_type": "markdown",
   "metadata": {
    "nbpresent": {
     "id": "3d3036b2-9850-4506-8e41-60d40c788d18"
    }
   },
   "source": [
    "### What is Jupyter Notebook?\n",
    "- Open-source web application that allows you to create and share documents that contain live code, equations, visualizations, and explanatory text.\n",
    "- Heavily used in Data Science\n",
    "- Supports a large number of programming languages, including SQL\n",
    "- Requires Python\n",
    "- Easiest to install by [installing Anaconda](https://www.continuum.io/downloads)"
   ]
  },
  {
   "cell_type": "markdown",
   "metadata": {
    "nbpresent": {
     "id": "ebd7d540-a6fa-4c84-b2af-2490266d9b3e"
    }
   },
   "source": [
    "### Jupyter Notebook Terms\n",
    "- **Notebook document or notebooks**\n",
    "    - Produced by the Jupyter Notebook App\n",
    "    - Documents that contain both computer code and rich text elements\n",
    "- **Jupyter Notebook App**\n",
    "    - Server-client application that allows editing and running notebook document via web browser\n",
    "    - Can run on a local laptop/desktop or a remote server\n",
    "- **Kernel**\n",
    "    - Computational engine that execute the code contained in the notebook\n",
    "    - ipython kernel executes python – kernels for other languages exist\n",
    "- **Notebook Dashboard**\n",
    "    - Shown in browser when you launch Jupyter Notebook\n",
    "    - Features similar to a file manager\n",
    "    - Used to open notebooks and manage the running kernels\n",
    "- **Cell**\n",
    "    - Portion of a notebook that is either markdown-formatted text or code\n"
   ]
  },
  {
   "cell_type": "markdown",
   "metadata": {
    "nbpresent": {
     "id": "0b310267-394a-49dc-8174-0a3abfbd0aa9"
    }
   },
   "source": [
    "### Installing Jupyter Notebook on Windows\n",
    "- [Download Anaconda](https://www.continuum.io/downloads)\n",
    "- Install Anaconda, accepting the defaults\n",
    "- Install at least a DB2 Client\n",
    "- Download and install [visual studio tools](http://landinghub.visualstudio.com/visual-cpp-build-tools)\n",
    "- Launch Jupyter Notebook from a DB2 Command Window:\n",
    "![screenshot](files/LaunchJupyterNotebook.jpg)"
   ]
  },
  {
   "cell_type": "markdown",
   "metadata": {
    "nbpresent": {
     "id": "cbed146e-26ba-4018-8484-82b00a1b660b"
    }
   },
   "source": [
    "### Setting up Jupyter Notebook (Windows)\n",
    "Browser window will open, select New -> Python 3\n",
    "![screenshot](files/NewNotebook.jpg)"
   ]
  },
  {
   "cell_type": "markdown",
   "metadata": {},
   "source": [
    "### Using SQL in Jupyter Notebook \n",
    "- sql magic makes SQL quick and easy\n",
    "- DB2 commands can be executed when the notebook was launched from a command window, when prefixed with !\n",
    "- Limited options available in sql magic - full ibm_db offers more options using Python or the core language of your choice\n",
    "- Basic setup to use sql magic with DB2 is in the first few cells of this notebook"
   ]
  },
  {
   "cell_type": "markdown",
   "metadata": {},
   "source": [
    "### Ember's Questions and Items on how Jupyter Notebook Works\n",
    "- How does commit processing work by default and how can you change it?\n",
    "- Using SQL magic for whole cell vs. line by line\n",
    "- Displaying data in interesting ways\n",
    "- Using host variables\n",
    "- Explains"
   ]
  },
  {
   "cell_type": "markdown",
   "metadata": {},
   "source": [
    "### Jupyter Notebook and Commit Processing\n",
    "- Autocommit is on\n",
    "- More advanced controls available through traditonal python syntax for the ibm_db driver"
   ]
  },
  {
   "cell_type": "code",
   "execution_count": null,
   "metadata": {
    "collapsed": false
   },
   "outputs": [],
   "source": [
    "%sql create table temp_sales like db2admin.sales"
   ]
  },
  {
   "cell_type": "code",
   "execution_count": 9,
   "metadata": {
    "collapsed": false
   },
   "outputs": [
    {
     "name": "stdout",
     "output_type": "stream",
     "text": [
      "41 rows affected.\n"
     ]
    },
    {
     "data": {
      "text/plain": [
       "[]"
      ]
     },
     "execution_count": 9,
     "metadata": {},
     "output_type": "execute_result"
    }
   ],
   "source": [
    "%sql insert into temp_sales select * from db2admin.sales"
   ]
  },
  {
   "cell_type": "code",
   "execution_count": 10,
   "metadata": {
    "collapsed": false
   },
   "outputs": [
    {
     "name": "stdout",
     "output_type": "stream",
     "text": [
      "Done.\n"
     ]
    },
    {
     "data": {
      "text/html": [
       "<table>\n",
       "    <tr>\n",
       "        <th>1</th>\n",
       "    </tr>\n",
       "    <tr>\n",
       "        <td>123</td>\n",
       "    </tr>\n",
       "</table>"
      ],
      "text/plain": [
       "[(123,)]"
      ]
     },
     "execution_count": 10,
     "metadata": {},
     "output_type": "execute_result"
    }
   ],
   "source": [
    "%sql select count(*) from temp_sales"
   ]
  },
  {
   "cell_type": "code",
   "execution_count": 11,
   "metadata": {
    "collapsed": false
   },
   "outputs": [
    {
     "name": "stdout",
     "output_type": "stream",
     "text": [
      "41 rows affected.\n",
      "Done.\n",
      "Done.\n"
     ]
    },
    {
     "data": {
      "text/html": [
       "<table>\n",
       "    <tr>\n",
       "        <th>1</th>\n",
       "    </tr>\n",
       "    <tr>\n",
       "        <td>164</td>\n",
       "    </tr>\n",
       "</table>"
      ],
      "text/plain": [
       "[(164,)]"
      ]
     },
     "execution_count": 11,
     "metadata": {},
     "output_type": "execute_result"
    }
   ],
   "source": [
    "%sql insert into temp_sales select * from db2admin.sales\n",
    "%sql rollback\n",
    "%sql select count(*) from temp_sales"
   ]
  },
  {
   "cell_type": "markdown",
   "metadata": {},
   "source": [
    "### Using SQL Magic at the Cell Level vs. the Line Level\n",
    "- Line Level\n",
    "    - Each line is prefixed with %\n",
    "    - If a command fails, subsequent lines are still executed\n",
    "- Cell Level\n",
    "    - Using SQL Magic at the cell level involves starting a Cell with %%sql\n",
    "    - All lines in the cell are then interpreted as SQL\n",
    "    - If a command fails, subsequent lines are not executed"
   ]
  },
  {
   "cell_type": "code",
   "execution_count": 14,
   "metadata": {
    "collapsed": false
   },
   "outputs": [
    {
     "name": "stdout",
     "output_type": "stream",
     "text": [
      "Done.\n",
      "(ibm_db_dbi.ProgrammingError) ibm_db_dbi::ProgrammingError: SQLNumResultCols failed: [IBM][CLI Driver][DB2/NT64] SQL0204N  \"DB2ADMIN.DUAL\" is an undefined name.  SQLSTATE=42704\\r SQLCODE=-204 [SQL: 'select * from dual;']\n"
     ]
    }
   ],
   "source": [
    "%%sql\n",
    "--sql magic at the cell level\n",
    "select * from syscat.tables;\n",
    "select * from dual;\n",
    "select * from syscat.bufferpools;"
   ]
  },
  {
   "cell_type": "code",
   "execution_count": 15,
   "metadata": {
    "collapsed": false
   },
   "outputs": [
    {
     "name": "stdout",
     "output_type": "stream",
     "text": [
      "Done.\n",
      "(ibm_db_dbi.ProgrammingError) ibm_db_dbi::ProgrammingError: SQLNumResultCols failed: [IBM][CLI Driver][DB2/NT64] SQL0204N  \"DB2ADMIN.DUAL\" is an undefined name.  SQLSTATE=42704\\r SQLCODE=-204 [SQL: 'select * from dual;']\n",
      "Done.\n"
     ]
    },
    {
     "data": {
      "text/html": [
       "<table>\n",
       "    <tr>\n",
       "        <th>bpname</th>\n",
       "        <th>bufferpoolid</th>\n",
       "        <th>dbpgname</th>\n",
       "        <th>npages</th>\n",
       "        <th>PAGESIZE</th>\n",
       "        <th>estore</th>\n",
       "        <th>numblockpages</th>\n",
       "        <th>blocksize</th>\n",
       "        <th>ngname</th>\n",
       "    </tr>\n",
       "    <tr>\n",
       "        <td>IBMDEFAULTBP</td>\n",
       "        <td>1</td>\n",
       "        <td>None</td>\n",
       "        <td>250</td>\n",
       "        <td>8192</td>\n",
       "        <td>N</td>\n",
       "        <td>0</td>\n",
       "        <td>0</td>\n",
       "        <td>None</td>\n",
       "    </tr>\n",
       "    <tr>\n",
       "        <td>BUFF32K</td>\n",
       "        <td>2</td>\n",
       "        <td>None</td>\n",
       "        <td>-2</td>\n",
       "        <td>32768</td>\n",
       "        <td>N</td>\n",
       "        <td>0</td>\n",
       "        <td>0</td>\n",
       "        <td>None</td>\n",
       "    </tr>\n",
       "</table>"
      ],
      "text/plain": [
       "[('IBMDEFAULTBP', 1, None, 250, 8192, 'N', 0, 0, None),\n",
       " ('BUFF32K', 2, None, -2, 32768, 'N', 0, 0, None)]"
      ]
     },
     "execution_count": 15,
     "metadata": {},
     "output_type": "execute_result"
    }
   ],
   "source": [
    "#sql magic at the line level\n",
    "%sql select * from syscat.tables;\n",
    "%sql select * from dual;\n",
    "%sql select * from syscat.bufferpools;"
   ]
  },
  {
   "cell_type": "markdown",
   "metadata": {},
   "source": [
    "### Displaying Data in Interesting Ways"
   ]
  },
  {
   "cell_type": "code",
   "execution_count": 16,
   "metadata": {
    "collapsed": true
   },
   "outputs": [],
   "source": [
    "#Import stuff we need\n",
    "import matplotlib.pyplot as plt\n",
    "import matplotlib.dates as mdates\n",
    "import datetime as dt\n",
    "import numpy as np\n",
    "import pandas as pd\n",
    "\n",
    "# All plots should be inline, inside the notebook\n",
    "%matplotlib inline"
   ]
  },
  {
   "cell_type": "code",
   "execution_count": 17,
   "metadata": {
    "collapsed": false
   },
   "outputs": [
    {
     "name": "stdout",
     "output_type": "stream",
     "text": [
      "Done.\n"
     ]
    },
    {
     "data": {
      "text/plain": [
       "([<matplotlib.patches.Wedge at 0xa33cc18>,\n",
       "  <matplotlib.patches.Wedge at 0xa3468d0>,\n",
       "  <matplotlib.patches.Wedge at 0xa34e550>,\n",
       "  <matplotlib.patches.Wedge at 0xa3531d0>,\n",
       "  <matplotlib.patches.Wedge at 0xa353e10>,\n",
       "  <matplotlib.patches.Wedge at 0xa35aa90>,\n",
       "  <matplotlib.patches.Wedge at 0xa35f710>,\n",
       "  <matplotlib.patches.Wedge at 0xa366390>,\n",
       "  <matplotlib.patches.Wedge at 0xa366fd0>,\n",
       "  <matplotlib.patches.Wedge at 0xa36bc50>,\n",
       "  <matplotlib.patches.Wedge at 0xa3718d0>,\n",
       "  <matplotlib.patches.Wedge at 0xa377550>,\n",
       "  <matplotlib.patches.Wedge at 0xa37d1d0>,\n",
       "  <matplotlib.patches.Wedge at 0xa37de10>,\n",
       "  <matplotlib.patches.Wedge at 0xa384a90>,\n",
       "  <matplotlib.patches.Wedge at 0xa389710>,\n",
       "  <matplotlib.patches.Wedge at 0xa390390>],\n",
       " [<matplotlib.text.Text at 0xa346470>,\n",
       "  <matplotlib.text.Text at 0xa346fd0>,\n",
       "  <matplotlib.text.Text at 0xa34ed30>,\n",
       "  <matplotlib.text.Text at 0xa3539b0>,\n",
       "  <matplotlib.text.Text at 0xa35a630>,\n",
       "  <matplotlib.text.Text at 0xa35f2b0>,\n",
       "  <matplotlib.text.Text at 0xa35fef0>,\n",
       "  <matplotlib.text.Text at 0xa366b70>,\n",
       "  <matplotlib.text.Text at 0xa36b7f0>,\n",
       "  <matplotlib.text.Text at 0xa371470>,\n",
       "  <matplotlib.text.Text at 0xa371fd0>,\n",
       "  <matplotlib.text.Text at 0xa377d30>,\n",
       "  <matplotlib.text.Text at 0xa37d9b0>,\n",
       "  <matplotlib.text.Text at 0xa384630>,\n",
       "  <matplotlib.text.Text at 0xa3892b0>,\n",
       "  <matplotlib.text.Text at 0xa389ef0>,\n",
       "  <matplotlib.text.Text at 0xa390b70>])"
      ]
     },
     "execution_count": 17,
     "metadata": {},
     "output_type": "execute_result"
    },
    {
     "data": {
      "image/png": "[encoded data removed]",
      "text/plain": [
       "<matplotlib.figure.Figure at 0x8f664a8>"
      ]
     },
     "metadata": {},
     "output_type": "display_data"
    }
   ],
   "source": [
    "result= %sql select typename \\\n",
    "    , count(*) as count \\\n",
    "from syscat.columns \\\n",
    "group by typename \\\n",
    "order by count desc\n",
    "%matplotlib inline\n",
    "result.pie()"
   ]
  },
  {
   "cell_type": "code",
   "execution_count": 89,
   "metadata": {
    "collapsed": false
   },
   "outputs": [
    {
     "name": "stdout",
     "output_type": "stream",
     "text": [
      "Done.\n"
     ]
    },
    {
     "data": {
      "text/html": [
       "<table>\n",
       "    <tr>\n",
       "        <th>rows_read</th>\n",
       "        <th>pct_tot_rr</th>\n",
       "        <th>total_cpu_time</th>\n",
       "        <th>pct_tot_cpu</th>\n",
       "        <th>stmt_exec_time</th>\n",
       "        <th>pct_tot_exec</th>\n",
       "        <th>total_section_sort_time</th>\n",
       "        <th>pct_tot_srt</th>\n",
       "        <th>num_executions</th>\n",
       "        <th>pct_tot_exec_1</th>\n",
       "        <th>avg_exec_time</th>\n",
       "        <th>STATEMENT</th>\n",
       "    </tr>\n",
       "    <tr>\n",
       "        <td>64</td>\n",
       "        <td>37.20</td>\n",
       "        <td>0</td>\n",
       "        <td>0.00</td>\n",
       "        <td>5</td>\n",
       "        <td>9.61</td>\n",
       "        <td>0</td>\n",
       "        <td>None</td>\n",
       "        <td>16</td>\n",
       "        <td>14.67</td>\n",
       "        <td>0.31</td>\n",
       "        <td>SELECT TRIGNAME FROM  SYSCAT.TRIGGERS WHERE TABNAME=&#x27;POLICY&#x27; AND TABSCHEMA=&#x27;SYSTOOLS&#x27;</td>\n",
       "    </tr>\n",
       "    <tr>\n",
       "        <td>50</td>\n",
       "        <td>29.06</td>\n",
       "        <td>0</td>\n",
       "        <td>0.00</td>\n",
       "        <td>1</td>\n",
       "        <td>1.92</td>\n",
       "        <td>0</td>\n",
       "        <td>None</td>\n",
       "        <td>10</td>\n",
       "        <td>9.17</td>\n",
       "        <td>0.10</td>\n",
       "        <td>SELECT COLNAME, TYPENAME FROM  SYSCAT.COLUMNS WHERE TABNAME=&#x27;POLICY&#x27; AND TABSCHEMA=&#x27;SYSTOOLS&#x27;</td>\n",
       "    </tr>\n",
       "    <tr>\n",
       "        <td>40</td>\n",
       "        <td>23.25</td>\n",
       "        <td>0</td>\n",
       "        <td>0.00</td>\n",
       "        <td>2</td>\n",
       "        <td>3.84</td>\n",
       "        <td>0</td>\n",
       "        <td>None</td>\n",
       "        <td>5</td>\n",
       "        <td>4.58</td>\n",
       "        <td>0.40</td>\n",
       "        <td>select tabschema     , tabname     , controlauth     , deleteauth     , insertauth     , selectauth     , updateauth from syscat.tabauth where grantee = ?</td>\n",
       "    </tr>\n",
       "    <tr>\n",
       "        <td>16</td>\n",
       "        <td>9.30</td>\n",
       "        <td>0</td>\n",
       "        <td>0.00</td>\n",
       "        <td>13</td>\n",
       "        <td>25.00</td>\n",
       "        <td>0</td>\n",
       "        <td>None</td>\n",
       "        <td>16</td>\n",
       "        <td>14.67</td>\n",
       "        <td>0.81</td>\n",
       "        <td>SELECT POLICY FROM SYSTOOLS.POLICY WHERE MED=&#x27;DB2CommonMED&#x27; AND DECISION=&#x27;NOP&#x27; AND NAME=&#x27;CommonPolicy&#x27;</td>\n",
       "    </tr>\n",
       "    <tr>\n",
       "        <td>2</td>\n",
       "        <td>1.16</td>\n",
       "        <td>15625</td>\n",
       "        <td>100.00</td>\n",
       "        <td>24</td>\n",
       "        <td>46.15</td>\n",
       "        <td>0</td>\n",
       "        <td>None</td>\n",
       "        <td>10</td>\n",
       "        <td>9.17</td>\n",
       "        <td>2.40</td>\n",
       "        <td>CALL SYSPROC.SYSINSTALLOBJECTS(&#x27;POLICY&#x27;,&#x27;V&#x27;,&#x27;&#x27;,&#x27;&#x27;)</td>\n",
       "    </tr>\n",
       "    <tr>\n",
       "        <td>0</td>\n",
       "        <td>0.00</td>\n",
       "        <td>0</td>\n",
       "        <td>0.00</td>\n",
       "        <td>0</td>\n",
       "        <td>0.00</td>\n",
       "        <td>0</td>\n",
       "        <td>None</td>\n",
       "        <td>48</td>\n",
       "        <td>44.03</td>\n",
       "        <td>0.00</td>\n",
       "        <td>SET CURRENT LOCK TIMEOUT 5</td>\n",
       "    </tr>\n",
       "    <tr>\n",
       "        <td>0</td>\n",
       "        <td>0.00</td>\n",
       "        <td>0</td>\n",
       "        <td>0.00</td>\n",
       "        <td>7</td>\n",
       "        <td>13.46</td>\n",
       "        <td>0</td>\n",
       "        <td>None</td>\n",
       "        <td>4</td>\n",
       "        <td>3.66</td>\n",
       "        <td>1.75</td>\n",
       "        <td>WITH SUM_TAB (SUM_RR, SUM_CPU, SUM_EXEC, SUM_SORT, SUM_NUM_EXEC) AS (         SELECT  nullif(FLOAT(SUM(ROWS_READ)),0),                 nullif(FLOAT(SUM(TOTAL_CPU_TIME)),0),                 nullif(FLOAT(SUM(STMT_EXEC_TIME)),0),                 nullif(FLOAT(SUM(TOTAL_SECTION_SORT_TIME)),0),                 nullif(FLOAT(SUM(NUM_EXECUTIONS)),0)             FROM TABLE(MON_GET_PKG_CACHE_STMT ( &#x27;D&#x27;, NULL, NULL, -2)) AS T         ) SELECT substr(stmt_text,1,25) as STATEMENT,         ROWS_READ,         coalesce(DECIMAL(100*(FLOAT(ROWS_READ)/SUM_TAB.SUM_RR),5,2),0) AS PCT_TOT_RR,         TOTAL_CPU_TIME,         coalesce(DECIMAL(100*(FLOAT(TOTAL_CPU_TIME)/SUM_TAB.SUM_CPU),5,2),0) AS PCT_TOT_CPU,         STMT_EXEC_TIME,         coalesce(DECIMAL(100*(FLOAT(STMT_EXEC_TIME)/SUM_TAB.SUM_EXEC),5,2),0) AS PCT_TOT_EXEC,         TOTAL_SECTION_SORT_TIME,         coalesce(DECIMAL(100*(FLOAT(TOTAL_SECTION_SORT_TIME)/SUM_TAB.SUM_SORT),5,2),0) AS PCT_TOT_SRT,         NUM_EXECUTIONS,         coalesce(DECIMAL(100*(FLOAT(NUM_EXECUTIONS)/SUM_TAB.SUM_NUM_EXEC),5,2),0) AS PCT_TOT_EXECS,         DECIMAL(FLOAT(STMT_EXEC_TIME)/FLOAT(NUM_EXECUTIONS),10,2) AS AVG_EXEC_TIME,         RTRIM(STMT_TEXT) as FULL_STATEMENT     FROM TABLE(MON_GET_PKG_CACHE_STMT ( &#x27;D&#x27;, NULL, NULL, -2)) AS T, SUM_TAB     WHERE DECIMAL(100*(FLOAT(ROWS_READ)/SUM_TAB.SUM_RR),5,2) &gt; 10         OR DECIMAL(100*(FLOAT(TOTAL_CPU_TIME)/SUM_TAB.SUM_CPU),5,2) &gt;10         OR DECIMAL(100*(FLOAT(STMT_EXEC_TIME)/SUM_TAB.SUM_EXEC),5,2) &gt;10         OR DECIMAL(100*(FLOAT(TOTAL_SECTION_SORT_TIME)/SUM_TAB.SUM_SORT),5,2) &gt;10         OR DECIMAL(100*(FLOAT(NUM_EXECUTIONS)/SUM_TAB.SUM_NUM_EXEC),5,2) &gt;10     ORDER BY ROWS_READ DESC FETCH FIRST 20 ROWS ONLY WITH UR</td>\n",
       "    </tr>\n",
       "</table>"
      ],
      "text/plain": [
       "[(64, Decimal('37.20'), 0, Decimal('0.00'), 5, Decimal('9.61'), 0, None, 16, Decimal('14.67'), Decimal('0.31'), \"SELECT TRIGNAME FROM  SYSCAT.TRIGGERS WHERE TABNAME='POLICY' AND TABSCHEMA='SYSTOOLS'\"),\n",
       " (50, Decimal('29.06'), 0, Decimal('0.00'), 1, Decimal('1.92'), 0, None, 10, Decimal('9.17'), Decimal('0.10'), \"SELECT COLNAME, TYPENAME FROM  SYSCAT.COLUMNS WHERE TABNAME='POLICY' AND TABSCHEMA='SYSTOOLS'\"),\n",
       " (40, Decimal('23.25'), 0, Decimal('0.00'), 2, Decimal('3.84'), 0, None, 5, Decimal('4.58'), Decimal('0.40'), 'select tabschema     , tabname     , controlauth     , deleteauth     , insertauth     , selectauth     , updateauth from syscat.tabauth where grantee = ?'),\n",
       " (16, Decimal('9.30'), 0, Decimal('0.00'), 13, Decimal('25.00'), 0, None, 16, Decimal('14.67'), Decimal('0.81'), \"SELECT POLICY FROM SYSTOOLS.POLICY WHERE MED='DB2CommonMED' AND DECISION='NOP' AND NAME='CommonPolicy'\"),\n",
       " (2, Decimal('1.16'), 15625, Decimal('100.00'), 24, Decimal('46.15'), 0, None, 10, Decimal('9.17'), Decimal('2.40'), \"CALL SYSPROC.SYSINSTALLOBJECTS('POLICY','V','','')\"),\n",
       " (0, Decimal('0.00'), 0, Decimal('0.00'), 0, Decimal('0.00'), 0, None, 48, Decimal('44.03'), Decimal('0.00'), 'SET CURRENT LOCK TIMEOUT 5'),\n",
       " (0, Decimal('0.00'), 0, Decimal('0.00'), 7, Decimal('13.46'), 0, None, 4, Decimal('3.66'), Decimal('1.75'), \"WITH SUM_TAB (SUM_RR, SUM_CPU, SUM_EXEC, SUM_SORT, SUM_NUM_EXEC) AS (         SELECT  nullif(FLOAT(SUM(ROWS_READ)),0),                 nullif(FLOAT(SUM(TOTAL_CPU_TIME)),0),                 nullif(FLOAT(SUM(STMT_EXEC_TIME)),0),                 nullif(FLOAT(SUM(TOTAL_SECTION_SORT_TIME)),0),                 nullif(FLOAT(SUM(NUM_EXECUTIONS)),0)             FROM TABLE(MON_GET_PKG_CACHE_STMT ( 'D', NULL, NULL, -2)) AS T         ) SELECT substr(stmt_text,1,25) as STATEMENT,         ROWS_READ,         coalesce(DECIMAL(100*(FLOAT(ROWS_READ)/SUM_TAB.SUM_RR),5,2),0) AS PCT_TOT_RR,         TOTAL_CPU_TIME,         coalesce(DECIMAL(100*(FLOAT(TOTAL_CPU_TIME)/SUM_TAB.SUM_CPU),5,2),0) AS PCT_TOT_CPU,         STMT_EXEC_TIME,         coalesce(DECIMAL(100*(FLOAT(STMT_EXEC_TIME)/SUM_TAB.SUM_EXEC),5,2),0) AS PCT_TOT_EXEC,         TOTAL_SECTION_SORT_TIME,         coalesce(DECIMAL(100*(FLOAT(TOTAL_SECTION_SORT_TIME)/SUM_TAB.SUM_SORT),5,2),0) AS PCT_TOT_SRT,         NUM_EXECUTIONS,         coalesce(DECIMAL(100*(FLOAT(NUM_EXECUTIONS)/SUM_TAB.SUM_NUM_EXEC),5,2),0) AS PCT_TOT_EXECS,         DECIMAL(FLOAT(STMT_EXEC_TIME)/FLOAT(NUM_EXECUTIONS),10,2) AS AVG_EXEC_TIME,         RTRIM(STMT_TEXT) as FULL_STATEMENT     FROM TABLE(MON_GET_PKG_CACHE_STMT ( 'D', NULL, NULL, -2)) AS T, SUM_TAB     WHERE DECIMAL(100*(FLOAT(ROWS_READ)/SUM_TAB.SUM_RR),5,2) > 10         OR DECIMAL(100*(FLOAT(TOTAL_CPU_TIME)/SUM_TAB.SUM_CPU),5,2) >10         OR DECIMAL(100*(FLOAT(STMT_EXEC_TIME)/SUM_TAB.SUM_EXEC),5,2) >10         OR DECIMAL(100*(FLOAT(TOTAL_SECTION_SORT_TIME)/SUM_TAB.SUM_SORT),5,2) >10         OR DECIMAL(100*(FLOAT(NUM_EXECUTIONS)/SUM_TAB.SUM_NUM_EXEC),5,2) >10     ORDER BY ROWS_READ DESC FETCH FIRST 20 ROWS ONLY WITH UR\")]"
      ]
     },
     "execution_count": 89,
     "metadata": {},
     "output_type": "execute_result"
    }
   ],
   "source": [
    "%sql WITH SUM_TAB (SUM_RR, SUM_CPU, SUM_EXEC, SUM_SORT, SUM_NUM_EXEC) AS ( \\\n",
    "        SELECT  nullif(FLOAT(SUM(ROWS_READ)),0), \\\n",
    "                nullif(FLOAT(SUM(TOTAL_CPU_TIME)),0), \\\n",
    "                nullif(FLOAT(SUM(STMT_EXEC_TIME)),0), \\\n",
    "                nullif(FLOAT(SUM(TOTAL_SECTION_SORT_TIME)),0), \\\n",
    "                nullif(FLOAT(SUM(NUM_EXECUTIONS)),0) \\\n",
    "            FROM TABLE(MON_GET_PKG_CACHE_STMT ( 'D', NULL, NULL, -2)) AS T \\\n",
    "        ) \\\n",
    "SELECT \\\n",
    "        ROWS_READ, \\\n",
    "        DECIMAL(100*(FLOAT(ROWS_READ)/SUM_TAB.SUM_RR),5,2) AS PCT_TOT_RR, \\\n",
    "        TOTAL_CPU_TIME, \\\n",
    "        DECIMAL(100*(FLOAT(TOTAL_CPU_TIME)/SUM_TAB.SUM_CPU),5,2) AS PCT_TOT_CPU, \\\n",
    "        STMT_EXEC_TIME, \\\n",
    "        DECIMAL(100*(FLOAT(STMT_EXEC_TIME)/SUM_TAB.SUM_EXEC),5,2) AS PCT_TOT_EXEC, \\\n",
    "        TOTAL_SECTION_SORT_TIME, \\\n",
    "        DECIMAL(100*(FLOAT(TOTAL_SECTION_SORT_TIME)/SUM_TAB.SUM_SORT),5,2) AS PCT_TOT_SRT, \\\n",
    "        NUM_EXECUTIONS, \\\n",
    "        DECIMAL(100*(FLOAT(NUM_EXECUTIONS)/SUM_TAB.SUM_NUM_EXEC),5,2) AS PCT_TOT_EXEC, \\\n",
    "        DECIMAL(FLOAT(STMT_EXEC_TIME)/FLOAT(NUM_EXECUTIONS),10,2) AS AVG_EXEC_TIME, \\\n",
    "        RTRIM(STMT_TEXT) as STATEMENT \\\n",
    "    FROM TABLE(MON_GET_PKG_CACHE_STMT ( 'D', NULL, NULL, -2)) AS T, SUM_TAB \\\n",
    "    WHERE DECIMAL(100*(FLOAT(ROWS_READ)/SUM_TAB.SUM_RR),5,2) > 10 \\\n",
    "        OR DECIMAL(100*(FLOAT(TOTAL_CPU_TIME)/SUM_TAB.SUM_CPU),5,2) >10 \\\n",
    "        OR DECIMAL(100*(FLOAT(STMT_EXEC_TIME)/SUM_TAB.SUM_EXEC),5,2) >10 \\\n",
    "        OR DECIMAL(100*(FLOAT(TOTAL_SECTION_SORT_TIME)/SUM_TAB.SUM_SORT),5,2) >10 \\\n",
    "        OR DECIMAL(100*(FLOAT(NUM_EXECUTIONS)/SUM_TAB.SUM_NUM_EXEC),5,2) >10 \\\n",
    "    ORDER BY ROWS_READ DESC FETCH FIRST 20 ROWS ONLY WITH UR"
   ]
  },
  {
   "cell_type": "code",
   "execution_count": 85,
   "metadata": {
    "collapsed": false
   },
   "outputs": [
    {
     "name": "stdout",
     "output_type": "stream",
     "text": [
      "Done.\n"
     ]
    },
    {
     "data": {
      "text/html": [
       "<div>\n",
       "<table border=\"1\" class=\"dataframe\">\n",
       "  <thead>\n",
       "    <tr style=\"text-align: right;\">\n",
       "      <th></th>\n",
       "      <th>rows_read</th>\n",
       "      <th>total_cpu_time</th>\n",
       "      <th>stmt_exec_time</th>\n",
       "      <th>total_section_sort_time</th>\n",
       "      <th>num_executions</th>\n",
       "    </tr>\n",
       "  </thead>\n",
       "  <tbody>\n",
       "    <tr>\n",
       "      <th>count</th>\n",
       "      <td>6.000000</td>\n",
       "      <td>6.000000</td>\n",
       "      <td>6.000000</td>\n",
       "      <td>6.0</td>\n",
       "      <td>6.000000</td>\n",
       "    </tr>\n",
       "    <tr>\n",
       "      <th>mean</th>\n",
       "      <td>28.666667</td>\n",
       "      <td>2604.166667</td>\n",
       "      <td>7.500000</td>\n",
       "      <td>0.0</td>\n",
       "      <td>17.500000</td>\n",
       "    </tr>\n",
       "    <tr>\n",
       "      <th>std</th>\n",
       "      <td>26.553091</td>\n",
       "      <td>6378.879538</td>\n",
       "      <td>9.354143</td>\n",
       "      <td>0.0</td>\n",
       "      <td>15.514509</td>\n",
       "    </tr>\n",
       "    <tr>\n",
       "      <th>min</th>\n",
       "      <td>0.000000</td>\n",
       "      <td>0.000000</td>\n",
       "      <td>0.000000</td>\n",
       "      <td>0.0</td>\n",
       "      <td>5.000000</td>\n",
       "    </tr>\n",
       "    <tr>\n",
       "      <th>25%</th>\n",
       "      <td>5.500000</td>\n",
       "      <td>0.000000</td>\n",
       "      <td>1.250000</td>\n",
       "      <td>0.0</td>\n",
       "      <td>10.000000</td>\n",
       "    </tr>\n",
       "    <tr>\n",
       "      <th>50%</th>\n",
       "      <td>28.000000</td>\n",
       "      <td>0.000000</td>\n",
       "      <td>3.500000</td>\n",
       "      <td>0.0</td>\n",
       "      <td>13.000000</td>\n",
       "    </tr>\n",
       "    <tr>\n",
       "      <th>75%</th>\n",
       "      <td>47.500000</td>\n",
       "      <td>0.000000</td>\n",
       "      <td>11.000000</td>\n",
       "      <td>0.0</td>\n",
       "      <td>16.000000</td>\n",
       "    </tr>\n",
       "    <tr>\n",
       "      <th>max</th>\n",
       "      <td>64.000000</td>\n",
       "      <td>15625.000000</td>\n",
       "      <td>24.000000</td>\n",
       "      <td>0.0</td>\n",
       "      <td>48.000000</td>\n",
       "    </tr>\n",
       "  </tbody>\n",
       "</table>\n",
       "</div>"
      ],
      "text/plain": [
       "       rows_read  total_cpu_time  stmt_exec_time  total_section_sort_time  \\\n",
       "count   6.000000        6.000000        6.000000                      6.0   \n",
       "mean   28.666667     2604.166667        7.500000                      0.0   \n",
       "std    26.553091     6378.879538        9.354143                      0.0   \n",
       "min     0.000000        0.000000        0.000000                      0.0   \n",
       "25%     5.500000        0.000000        1.250000                      0.0   \n",
       "50%    28.000000        0.000000        3.500000                      0.0   \n",
       "75%    47.500000        0.000000       11.000000                      0.0   \n",
       "max    64.000000    15625.000000       24.000000                      0.0   \n",
       "\n",
       "       num_executions  \n",
       "count        6.000000  \n",
       "mean        17.500000  \n",
       "std         15.514509  \n",
       "min          5.000000  \n",
       "25%         10.000000  \n",
       "50%         13.000000  \n",
       "75%         16.000000  \n",
       "max         48.000000  "
      ]
     },
     "execution_count": 85,
     "metadata": {},
     "output_type": "execute_result"
    }
   ],
   "source": [
    "result= %sql WITH SUM_TAB (SUM_RR, SUM_CPU, SUM_EXEC, SUM_SORT, SUM_NUM_EXEC) AS ( \\\n",
    "        SELECT  nullif(FLOAT(SUM(ROWS_READ)),0), \\\n",
    "                nullif(FLOAT(SUM(TOTAL_CPU_TIME)),0), \\\n",
    "                nullif(FLOAT(SUM(STMT_EXEC_TIME)),0), \\\n",
    "                nullif(FLOAT(SUM(TOTAL_SECTION_SORT_TIME)),0), \\\n",
    "                nullif(FLOAT(SUM(NUM_EXECUTIONS)),0) \\\n",
    "            FROM TABLE(MON_GET_PKG_CACHE_STMT ( 'D', NULL, NULL, -2)) AS T \\\n",
    "        ) \\\n",
    "SELECT substr(stmt_text,1,25) as STATEMENT, \\\n",
    "        ROWS_READ, \\\n",
    "        coalesce(DECIMAL(100*(FLOAT(ROWS_READ)/SUM_TAB.SUM_RR),5,2),0) AS PCT_TOT_RR, \\\n",
    "        TOTAL_CPU_TIME, \\\n",
    "        coalesce(DECIMAL(100*(FLOAT(TOTAL_CPU_TIME)/SUM_TAB.SUM_CPU),5,2),0) AS PCT_TOT_CPU, \\\n",
    "        STMT_EXEC_TIME, \\\n",
    "        coalesce(DECIMAL(100*(FLOAT(STMT_EXEC_TIME)/SUM_TAB.SUM_EXEC),5,2),0) AS PCT_TOT_EXEC, \\\n",
    "        TOTAL_SECTION_SORT_TIME, \\\n",
    "        coalesce(DECIMAL(100*(FLOAT(TOTAL_SECTION_SORT_TIME)/SUM_TAB.SUM_SORT),5,2),0) AS PCT_TOT_SRT, \\\n",
    "        NUM_EXECUTIONS, \\\n",
    "        coalesce(DECIMAL(100*(FLOAT(NUM_EXECUTIONS)/SUM_TAB.SUM_NUM_EXEC),5,2),0) AS PCT_TOT_EXECS, \\\n",
    "        DECIMAL(FLOAT(STMT_EXEC_TIME)/FLOAT(NUM_EXECUTIONS),10,2) AS AVG_EXEC_TIME, \\\n",
    "        RTRIM(STMT_TEXT) as FULL_STATEMENT \\\n",
    "    FROM TABLE(MON_GET_PKG_CACHE_STMT ( 'D', NULL, NULL, -2)) AS T, SUM_TAB \\\n",
    "    WHERE DECIMAL(100*(FLOAT(ROWS_READ)/SUM_TAB.SUM_RR),5,2) > 10 \\\n",
    "        OR DECIMAL(100*(FLOAT(TOTAL_CPU_TIME)/SUM_TAB.SUM_CPU),5,2) >10 \\\n",
    "        OR DECIMAL(100*(FLOAT(STMT_EXEC_TIME)/SUM_TAB.SUM_EXEC),5,2) >10 \\\n",
    "        OR DECIMAL(100*(FLOAT(TOTAL_SECTION_SORT_TIME)/SUM_TAB.SUM_SORT),5,2) >10 \\\n",
    "        OR DECIMAL(100*(FLOAT(NUM_EXECUTIONS)/SUM_TAB.SUM_NUM_EXEC),5,2) >10 \\\n",
    "    ORDER BY ROWS_READ DESC FETCH FIRST 20 ROWS ONLY WITH UR\n",
    "%matplotlib inline\n",
    "df=result.DataFrame()\n",
    "df.describe()"
   ]
  },
  {
   "cell_type": "markdown",
   "metadata": {},
   "source": [
    "Show number of rows and number of columns of the output"
   ]
  },
  {
   "cell_type": "code",
   "execution_count": 71,
   "metadata": {
    "collapsed": false
   },
   "outputs": [
    {
     "data": {
      "text/plain": [
       "(5, 13)"
      ]
     },
     "execution_count": 71,
     "metadata": {},
     "output_type": "execute_result"
    }
   ],
   "source": [
    "df.shape"
   ]
  },
  {
   "cell_type": "markdown",
   "metadata": {},
   "source": [
    "Show the names of all columns, in a comma separated list"
   ]
  },
  {
   "cell_type": "code",
   "execution_count": 72,
   "metadata": {
    "collapsed": false
   },
   "outputs": [
    {
     "data": {
      "text/plain": [
       "Index(['STATEMENT', 'rows_read', 'pct_tot_rr', 'total_cpu_time', 'pct_tot_cpu',\n",
       "       'stmt_exec_time', 'pct_tot_exec', 'total_section_sort_time',\n",
       "       'pct_tot_srt', 'num_executions', 'pct_tot_execs', 'avg_exec_time',\n",
       "       'full_statement'],\n",
       "      dtype='object')"
      ]
     },
     "execution_count": 72,
     "metadata": {},
     "output_type": "execute_result"
    }
   ],
   "source": [
    "df.columns"
   ]
  },
  {
   "cell_type": "markdown",
   "metadata": {},
   "source": [
    "Sort the output by a different column"
   ]
  },
  {
   "cell_type": "code",
   "execution_count": 86,
   "metadata": {
    "collapsed": false
   },
   "outputs": [
    {
     "data": {
      "text/html": [
       "<div>\n",
       "<table border=\"1\" class=\"dataframe\">\n",
       "  <thead>\n",
       "    <tr style=\"text-align: right;\">\n",
       "      <th></th>\n",
       "      <th>STATEMENT</th>\n",
       "      <th>rows_read</th>\n",
       "      <th>pct_tot_rr</th>\n",
       "      <th>total_cpu_time</th>\n",
       "      <th>pct_tot_cpu</th>\n",
       "      <th>stmt_exec_time</th>\n",
       "      <th>pct_tot_exec</th>\n",
       "      <th>total_section_sort_time</th>\n",
       "      <th>pct_tot_srt</th>\n",
       "      <th>num_executions</th>\n",
       "      <th>pct_tot_execs</th>\n",
       "      <th>avg_exec_time</th>\n",
       "      <th>full_statement</th>\n",
       "    </tr>\n",
       "  </thead>\n",
       "  <tbody>\n",
       "    <tr>\n",
       "      <th>4</th>\n",
       "      <td>CALL SYSPROC.SYSINSTALLOB</td>\n",
       "      <td>2</td>\n",
       "      <td>1.16</td>\n",
       "      <td>15625</td>\n",
       "      <td>100.00</td>\n",
       "      <td>24</td>\n",
       "      <td>48.00</td>\n",
       "      <td>0</td>\n",
       "      <td>0.00</td>\n",
       "      <td>10</td>\n",
       "      <td>9.25</td>\n",
       "      <td>2.40</td>\n",
       "      <td>CALL SYSPROC.SYSINSTALLOBJECTS('POLICY','V',''...</td>\n",
       "    </tr>\n",
       "    <tr>\n",
       "      <th>3</th>\n",
       "      <td>SELECT POLICY FROM SYSTOO</td>\n",
       "      <td>16</td>\n",
       "      <td>9.30</td>\n",
       "      <td>0</td>\n",
       "      <td>0.00</td>\n",
       "      <td>13</td>\n",
       "      <td>26.00</td>\n",
       "      <td>0</td>\n",
       "      <td>0.00</td>\n",
       "      <td>16</td>\n",
       "      <td>14.81</td>\n",
       "      <td>0.81</td>\n",
       "      <td>SELECT POLICY FROM SYSTOOLS.POLICY WHERE MED='...</td>\n",
       "    </tr>\n",
       "    <tr>\n",
       "      <th>0</th>\n",
       "      <td>SELECT TRIGNAME FROM  SYS</td>\n",
       "      <td>64</td>\n",
       "      <td>37.20</td>\n",
       "      <td>0</td>\n",
       "      <td>0.00</td>\n",
       "      <td>5</td>\n",
       "      <td>10.00</td>\n",
       "      <td>0</td>\n",
       "      <td>0.00</td>\n",
       "      <td>16</td>\n",
       "      <td>14.81</td>\n",
       "      <td>0.31</td>\n",
       "      <td>SELECT TRIGNAME FROM  SYSCAT.TRIGGERS WHERE TA...</td>\n",
       "    </tr>\n",
       "    <tr>\n",
       "      <th>2</th>\n",
       "      <td>select tabschema     , ta</td>\n",
       "      <td>40</td>\n",
       "      <td>23.25</td>\n",
       "      <td>0</td>\n",
       "      <td>0.00</td>\n",
       "      <td>2</td>\n",
       "      <td>4.00</td>\n",
       "      <td>0</td>\n",
       "      <td>0.00</td>\n",
       "      <td>5</td>\n",
       "      <td>4.62</td>\n",
       "      <td>0.40</td>\n",
       "      <td>select tabschema     , tabname     , controlau...</td>\n",
       "    </tr>\n",
       "    <tr>\n",
       "      <th>1</th>\n",
       "      <td>SELECT COLNAME, TYPENAME</td>\n",
       "      <td>50</td>\n",
       "      <td>29.06</td>\n",
       "      <td>0</td>\n",
       "      <td>0.00</td>\n",
       "      <td>1</td>\n",
       "      <td>2.00</td>\n",
       "      <td>0</td>\n",
       "      <td>0.00</td>\n",
       "      <td>10</td>\n",
       "      <td>9.25</td>\n",
       "      <td>0.10</td>\n",
       "      <td>SELECT COLNAME, TYPENAME FROM  SYSCAT.COLUMNS ...</td>\n",
       "    </tr>\n",
       "    <tr>\n",
       "      <th>5</th>\n",
       "      <td>SET CURRENT LOCK TIMEOUT</td>\n",
       "      <td>0</td>\n",
       "      <td>0.00</td>\n",
       "      <td>0</td>\n",
       "      <td>0.00</td>\n",
       "      <td>0</td>\n",
       "      <td>0.00</td>\n",
       "      <td>0</td>\n",
       "      <td>0.00</td>\n",
       "      <td>48</td>\n",
       "      <td>44.44</td>\n",
       "      <td>0.00</td>\n",
       "      <td>SET CURRENT LOCK TIMEOUT 5</td>\n",
       "    </tr>\n",
       "  </tbody>\n",
       "</table>\n",
       "</div>"
      ],
      "text/plain": [
       "                   STATEMENT  rows_read pct_tot_rr  total_cpu_time  \\\n",
       "4  CALL SYSPROC.SYSINSTALLOB          2       1.16           15625   \n",
       "3  SELECT POLICY FROM SYSTOO         16       9.30               0   \n",
       "0  SELECT TRIGNAME FROM  SYS         64      37.20               0   \n",
       "2  select tabschema     , ta         40      23.25               0   \n",
       "1  SELECT COLNAME, TYPENAME          50      29.06               0   \n",
       "5  SET CURRENT LOCK TIMEOUT           0       0.00               0   \n",
       "\n",
       "  pct_tot_cpu  stmt_exec_time pct_tot_exec  total_section_sort_time  \\\n",
       "4      100.00              24        48.00                        0   \n",
       "3        0.00              13        26.00                        0   \n",
       "0        0.00               5        10.00                        0   \n",
       "2        0.00               2         4.00                        0   \n",
       "1        0.00               1         2.00                        0   \n",
       "5        0.00               0         0.00                        0   \n",
       "\n",
       "  pct_tot_srt  num_executions pct_tot_execs avg_exec_time  \\\n",
       "4        0.00              10          9.25          2.40   \n",
       "3        0.00              16         14.81          0.81   \n",
       "0        0.00              16         14.81          0.31   \n",
       "2        0.00               5          4.62          0.40   \n",
       "1        0.00              10          9.25          0.10   \n",
       "5        0.00              48         44.44          0.00   \n",
       "\n",
       "                                      full_statement  \n",
       "4  CALL SYSPROC.SYSINSTALLOBJECTS('POLICY','V',''...  \n",
       "3  SELECT POLICY FROM SYSTOOLS.POLICY WHERE MED='...  \n",
       "0  SELECT TRIGNAME FROM  SYSCAT.TRIGGERS WHERE TA...  \n",
       "2  select tabschema     , tabname     , controlau...  \n",
       "1  SELECT COLNAME, TYPENAME FROM  SYSCAT.COLUMNS ...  \n",
       "5                         SET CURRENT LOCK TIMEOUT 5  "
      ]
     },
     "execution_count": 86,
     "metadata": {},
     "output_type": "execute_result"
    }
   ],
   "source": [
    "# sort output by a different column\n",
    "df.sort_values(by=['stmt_exec_time'], ascending=False)"
   ]
  },
  {
   "cell_type": "markdown",
   "metadata": {},
   "source": [
    "Some data types may not be what is expected"
   ]
  },
  {
   "cell_type": "code",
   "execution_count": 74,
   "metadata": {
    "collapsed": false
   },
   "outputs": [
    {
     "data": {
      "text/plain": [
       "STATEMENT                  object\n",
       "rows_read                   int64\n",
       "pct_tot_rr                 object\n",
       "total_cpu_time              int64\n",
       "pct_tot_cpu                object\n",
       "stmt_exec_time              int64\n",
       "pct_tot_exec               object\n",
       "total_section_sort_time     int64\n",
       "pct_tot_srt                object\n",
       "num_executions              int64\n",
       "pct_tot_execs              object\n",
       "avg_exec_time              object\n",
       "full_statement             object\n",
       "dtype: object"
      ]
     },
     "execution_count": 74,
     "metadata": {},
     "output_type": "execute_result"
    }
   ],
   "source": [
    "df.dtypes"
   ]
  },
  {
   "cell_type": "markdown",
   "metadata": {},
   "source": [
    "Convert incorrect columns to FLOAT"
   ]
  },
  {
   "cell_type": "code",
   "execution_count": 75,
   "metadata": {
    "collapsed": false
   },
   "outputs": [],
   "source": [
    "df[['pct_tot_rr']]=df[['pct_tot_rr']].astype(float)\n",
    "df[['pct_tot_cpu']]=df[['pct_tot_cpu']].astype(float)\n",
    "df[['pct_tot_exec']]=df[['pct_tot_exec']].astype(float)\n",
    "df[['pct_tot_srt']]=df[['pct_tot_srt']].astype(float)\n",
    "df[['pct_tot_execs']]=df[['pct_tot_execs']].astype(float)\n",
    "df[['avg_exec_time']]=df[['avg_exec_time']].astype(float)"
   ]
  },
  {
   "cell_type": "markdown",
   "metadata": {},
   "source": [
    "Verify the data type conversion worked"
   ]
  },
  {
   "cell_type": "code",
   "execution_count": 76,
   "metadata": {
    "collapsed": false
   },
   "outputs": [
    {
     "data": {
      "text/plain": [
       "STATEMENT                   object\n",
       "rows_read                    int64\n",
       "pct_tot_rr                 float64\n",
       "total_cpu_time               int64\n",
       "pct_tot_cpu                float64\n",
       "stmt_exec_time               int64\n",
       "pct_tot_exec               float64\n",
       "total_section_sort_time      int64\n",
       "pct_tot_srt                float64\n",
       "num_executions               int64\n",
       "pct_tot_execs              float64\n",
       "avg_exec_time              float64\n",
       "full_statement              object\n",
       "dtype: object"
      ]
     },
     "execution_count": 76,
     "metadata": {},
     "output_type": "execute_result"
    }
   ],
   "source": [
    "df.dtypes"
   ]
  },
  {
   "cell_type": "markdown",
   "metadata": {},
   "source": [
    "Plot the data on multiple dimensions"
   ]
  },
  {
   "cell_type": "code",
   "execution_count": 77,
   "metadata": {
    "collapsed": false
   },
   "outputs": [
    {
     "data": {
      "text/plain": [
       "<function matplotlib.pyplot.show>"
      ]
     },
     "execution_count": 77,
     "metadata": {},
     "output_type": "execute_result"
    },
    {
     "data": {
      "image/png": "[encoded data removed]",
      "text/plain": [
       "<matplotlib.figure.Figure at 0xbbdd208>"
      ]
     },
     "metadata": {},
     "output_type": "display_data"
    }
   ],
   "source": [
    "df.plot(x='STATEMENT', y=['pct_tot_rr','pct_tot_cpu','pct_tot_exec','pct_tot_srt'], kind='barh')\n",
    "plt.show"
   ]
  },
  {
   "cell_type": "code",
   "execution_count": 90,
   "metadata": {
    "collapsed": false
   },
   "outputs": [
    {
     "data": {
      "text/html": [
       "<div>\n",
       "<table border=\"1\" class=\"dataframe\">\n",
       "  <thead>\n",
       "    <tr style=\"text-align: right;\">\n",
       "      <th></th>\n",
       "      <th>full_statement</th>\n",
       "    </tr>\n",
       "  </thead>\n",
       "  <tbody>\n",
       "    <tr>\n",
       "      <th>0</th>\n",
       "      <td>SELECT TRIGNAME FROM  SYSCAT.TRIGGERS WHERE TABNAME='POLICY' AND TABSCHEMA='SYSTOOLS'</td>\n",
       "    </tr>\n",
       "    <tr>\n",
       "      <th>1</th>\n",
       "      <td>SELECT COLNAME, TYPENAME FROM  SYSCAT.COLUMNS WHERE TABNAME='POLICY' AND TABSCHEMA='SYSTOOLS'</td>\n",
       "    </tr>\n",
       "    <tr>\n",
       "      <th>2</th>\n",
       "      <td>select tabschema     , tabname     , controlauth     , deleteauth     , insertauth     , selectauth     , updateauth from syscat.tabauth where grantee = ?</td>\n",
       "    </tr>\n",
       "    <tr>\n",
       "      <th>3</th>\n",
       "      <td>SELECT POLICY FROM SYSTOOLS.POLICY WHERE MED='DB2CommonMED' AND DECISION='NOP' AND NAME='CommonPolicy'</td>\n",
       "    </tr>\n",
       "    <tr>\n",
       "      <th>4</th>\n",
       "      <td>CALL SYSPROC.SYSINSTALLOBJECTS('POLICY','V','','')</td>\n",
       "    </tr>\n",
       "    <tr>\n",
       "      <th>5</th>\n",
       "      <td>SET CURRENT LOCK TIMEOUT 5</td>\n",
       "    </tr>\n",
       "  </tbody>\n",
       "</table>\n",
       "</div>"
      ],
      "text/plain": [
       "                                                                                                                                               full_statement\n",
       "0  SELECT TRIGNAME FROM  SYSCAT.TRIGGERS WHERE TABNAME='POLICY' AND TABSCHEMA='SYSTOOLS'                                                                     \n",
       "1  SELECT COLNAME, TYPENAME FROM  SYSCAT.COLUMNS WHERE TABNAME='POLICY' AND TABSCHEMA='SYSTOOLS'                                                             \n",
       "2  select tabschema     , tabname     , controlauth     , deleteauth     , insertauth     , selectauth     , updateauth from syscat.tabauth where grantee = ?\n",
       "3  SELECT POLICY FROM SYSTOOLS.POLICY WHERE MED='DB2CommonMED' AND DECISION='NOP' AND NAME='CommonPolicy'                                                    \n",
       "4  CALL SYSPROC.SYSINSTALLOBJECTS('POLICY','V','','')                                                                                                        \n",
       "5  SET CURRENT LOCK TIMEOUT 5                                                                                                                                "
      ]
     },
     "execution_count": 90,
     "metadata": {},
     "output_type": "execute_result"
    }
   ],
   "source": [
    "pd.set_option('display.max_colwidth', -1)\n",
    "df[['full_statement']]"
   ]
  },
  {
   "cell_type": "markdown",
   "metadata": {},
   "source": [
    "### Using Host Variables / Parameter Markers"
   ]
  },
  {
   "cell_type": "code",
   "execution_count": 84,
   "metadata": {
    "collapsed": false
   },
   "outputs": [
    {
     "name": "stdout",
     "output_type": "stream",
     "text": [
      "Done.\n"
     ]
    },
    {
     "data": {
      "text/html": [
       "<table>\n",
       "    <tr>\n",
       "        <th>tabschema</th>\n",
       "        <th>tabname</th>\n",
       "        <th>controlauth</th>\n",
       "        <th>deleteauth</th>\n",
       "        <th>insertauth</th>\n",
       "        <th>selectauth</th>\n",
       "        <th>updateauth</th>\n",
       "    </tr>\n",
       "    <tr>\n",
       "        <td>SYSTOOLS</td>\n",
       "        <td>STMG_DBSIZE_INFO</td>\n",
       "        <td>Y</td>\n",
       "        <td>G</td>\n",
       "        <td>G</td>\n",
       "        <td>G</td>\n",
       "        <td>G</td>\n",
       "    </tr>\n",
       "    <tr>\n",
       "        <td>ECROOKS </td>\n",
       "        <td>T1</td>\n",
       "        <td>Y</td>\n",
       "        <td>G</td>\n",
       "        <td>G</td>\n",
       "        <td>G</td>\n",
       "        <td>G</td>\n",
       "    </tr>\n",
       "    <tr>\n",
       "        <td>ECROOKS </td>\n",
       "        <td>CONTROL_ACT_STMT</td>\n",
       "        <td>Y</td>\n",
       "        <td>G</td>\n",
       "        <td>G</td>\n",
       "        <td>G</td>\n",
       "        <td>G</td>\n",
       "    </tr>\n",
       "    <tr>\n",
       "        <td>ECROOKS </td>\n",
       "        <td>ACTIVITY_ACT_STMT</td>\n",
       "        <td>Y</td>\n",
       "        <td>G</td>\n",
       "        <td>G</td>\n",
       "        <td>G</td>\n",
       "        <td>G</td>\n",
       "    </tr>\n",
       "    <tr>\n",
       "        <td>ECROOKS </td>\n",
       "        <td>ACTIVITYSTMT_ACT_STMT</td>\n",
       "        <td>Y</td>\n",
       "        <td>G</td>\n",
       "        <td>G</td>\n",
       "        <td>G</td>\n",
       "        <td>G</td>\n",
       "    </tr>\n",
       "    <tr>\n",
       "        <td>ECROOKS </td>\n",
       "        <td>ACTIVITYVALS_ACT_STMT</td>\n",
       "        <td>Y</td>\n",
       "        <td>G</td>\n",
       "        <td>G</td>\n",
       "        <td>G</td>\n",
       "        <td>G</td>\n",
       "    </tr>\n",
       "    <tr>\n",
       "        <td>ECROOKS </td>\n",
       "        <td>ACTIVITYMETRICS_ACT_STMT</td>\n",
       "        <td>Y</td>\n",
       "        <td>G</td>\n",
       "        <td>G</td>\n",
       "        <td>G</td>\n",
       "        <td>G</td>\n",
       "    </tr>\n",
       "    <tr>\n",
       "        <td>ECROOKS </td>\n",
       "        <td>T2</td>\n",
       "        <td>Y</td>\n",
       "        <td>G</td>\n",
       "        <td>G</td>\n",
       "        <td>G</td>\n",
       "        <td>G</td>\n",
       "    </tr>\n",
       "</table>"
      ],
      "text/plain": [
       "[('SYSTOOLS', 'STMG_DBSIZE_INFO', 'Y', 'G', 'G', 'G', 'G'),\n",
       " ('ECROOKS ', 'T1', 'Y', 'G', 'G', 'G', 'G'),\n",
       " ('ECROOKS ', 'CONTROL_ACT_STMT', 'Y', 'G', 'G', 'G', 'G'),\n",
       " ('ECROOKS ', 'ACTIVITY_ACT_STMT', 'Y', 'G', 'G', 'G', 'G'),\n",
       " ('ECROOKS ', 'ACTIVITYSTMT_ACT_STMT', 'Y', 'G', 'G', 'G', 'G'),\n",
       " ('ECROOKS ', 'ACTIVITYVALS_ACT_STMT', 'Y', 'G', 'G', 'G', 'G'),\n",
       " ('ECROOKS ', 'ACTIVITYMETRICS_ACT_STMT', 'Y', 'G', 'G', 'G', 'G'),\n",
       " ('ECROOKS ', 'T2', 'Y', 'G', 'G', 'G', 'G')]"
      ]
     },
     "execution_count": 84,
     "metadata": {},
     "output_type": "execute_result"
    }
   ],
   "source": [
    "check_id = 'ECROOKS'\n",
    "%sql select tabschema \\\n",
    "    , tabname \\\n",
    "    , controlauth \\\n",
    "    , deleteauth \\\n",
    "    , insertauth \\\n",
    "    , selectauth \\\n",
    "    , updateauth \\\n",
    "from syscat.tabauth \\\n",
    "where grantee = :check_id"
   ]
  },
  {
   "cell_type": "markdown",
   "metadata": {},
   "source": [
    "### Explain Information in Jupyter Notebook"
   ]
  },
  {
   "cell_type": "markdown",
   "metadata": {},
   "source": [
    "#### If Explain Tables do not Exist, Create Them"
   ]
  },
  {
   "cell_type": "code",
   "execution_count": null,
   "metadata": {
    "collapsed": false
   },
   "outputs": [],
   "source": [
    "# This cell only needs to be executed if the explain tables do not exist\n",
    "%sql call sysproc.sysinstallobjects('EXPLAIN','C',NULL,NULL)"
   ]
  },
  {
   "cell_type": "code",
   "execution_count": 91,
   "metadata": {
    "collapsed": false
   },
   "outputs": [
    {
     "name": "stdout",
     "output_type": "stream",
     "text": [
      "Done.\n",
      "Done.\n"
     ]
    },
    {
     "ename": "InternalError",
     "evalue": "(ibm_db_dbi.InternalError) ibm_db_dbi::InternalError: Fetch Failure: [IBM][CLI Driver] CLI0115E  Invalid cursor state. SQLSTATE=24000 SQLCODE=-99999",
     "output_type": "error",
     "traceback": [
      "\u001b[0;31m---------------------------------------------------------------------------\u001b[0m",
      "\u001b[0;31mException\u001b[0m                                 Traceback (most recent call last)",
      "\u001b[0;32mC:\\Program Files\\Anaconda3\\lib\\site-packages\\ibm_db_dbi.py\u001b[0m in \u001b[0;36m_fetch_helper\u001b[0;34m(self, fetch_size)\u001b[0m\n\u001b[1;32m   1413\u001b[0m             \u001b[1;32mtry\u001b[0m\u001b[1;33m:\u001b[0m\u001b[1;33m\u001b[0m\u001b[0m\n\u001b[0;32m-> 1414\u001b[0;31m                 \u001b[0mrow\u001b[0m \u001b[1;33m=\u001b[0m \u001b[0mibm_db\u001b[0m\u001b[1;33m.\u001b[0m\u001b[0mfetch_tuple\u001b[0m\u001b[1;33m(\u001b[0m\u001b[0mself\u001b[0m\u001b[1;33m.\u001b[0m\u001b[0mstmt_handler\u001b[0m\u001b[1;33m)\u001b[0m\u001b[1;33m\u001b[0m\u001b[0m\n\u001b[0m\u001b[1;32m   1415\u001b[0m             \u001b[1;32mexcept\u001b[0m \u001b[0mException\u001b[0m \u001b[1;32mas\u001b[0m \u001b[0minst\u001b[0m\u001b[1;33m:\u001b[0m\u001b[1;33m\u001b[0m\u001b[0m\n",
      "\u001b[0;31mException\u001b[0m: Fetch Failure: [IBM][CLI Driver] CLI0115E  Invalid cursor state. SQLSTATE=24000 SQLCODE=-99999",
      "\nDuring handling of the above exception, another exception occurred:\n",
      "\u001b[0;31mInternalError\u001b[0m                             Traceback (most recent call last)",
      "\u001b[0;32mC:\\Program Files\\Anaconda3\\lib\\site-packages\\sqlalchemy\\engine\\result.py\u001b[0m in \u001b[0;36mfetchall\u001b[0;34m(self)\u001b[0m\n\u001b[1;32m    963\u001b[0m         \u001b[1;32mtry\u001b[0m\u001b[1;33m:\u001b[0m\u001b[1;33m\u001b[0m\u001b[0m\n\u001b[0;32m--> 964\u001b[0;31m             \u001b[0ml\u001b[0m \u001b[1;33m=\u001b[0m \u001b[0mself\u001b[0m\u001b[1;33m.\u001b[0m\u001b[0mprocess_rows\u001b[0m\u001b[1;33m(\u001b[0m\u001b[0mself\u001b[0m\u001b[1;33m.\u001b[0m\u001b[0m_fetchall_impl\u001b[0m\u001b[1;33m(\u001b[0m\u001b[1;33m)\u001b[0m\u001b[1;33m)\u001b[0m\u001b[1;33m\u001b[0m\u001b[0m\n\u001b[0m\u001b[1;32m    965\u001b[0m             \u001b[0mself\u001b[0m\u001b[1;33m.\u001b[0m\u001b[0m_soft_close\u001b[0m\u001b[1;33m(\u001b[0m\u001b[1;33m)\u001b[0m\u001b[1;33m\u001b[0m\u001b[0m\n",
      "\u001b[0;32mC:\\Program Files\\Anaconda3\\lib\\site-packages\\sqlalchemy\\engine\\result.py\u001b[0m in \u001b[0;36m_fetchall_impl\u001b[0;34m(self)\u001b[0m\n\u001b[1;32m    914\u001b[0m         \u001b[1;32mtry\u001b[0m\u001b[1;33m:\u001b[0m\u001b[1;33m\u001b[0m\u001b[0m\n\u001b[0;32m--> 915\u001b[0;31m             \u001b[1;32mreturn\u001b[0m \u001b[0mself\u001b[0m\u001b[1;33m.\u001b[0m\u001b[0mcursor\u001b[0m\u001b[1;33m.\u001b[0m\u001b[0mfetchall\u001b[0m\u001b[1;33m(\u001b[0m\u001b[1;33m)\u001b[0m\u001b[1;33m\u001b[0m\u001b[0m\n\u001b[0m\u001b[1;32m    916\u001b[0m         \u001b[1;32mexcept\u001b[0m \u001b[0mAttributeError\u001b[0m\u001b[1;33m:\u001b[0m\u001b[1;33m\u001b[0m\u001b[0m\n",
      "\u001b[0;32mC:\\Program Files\\Anaconda3\\lib\\site-packages\\ibm_db_dbi.py\u001b[0m in \u001b[0;36mfetchall\u001b[0;34m(self)\u001b[0m\n\u001b[1;32m   1460\u001b[0m         \"\"\"\n\u001b[0;32m-> 1461\u001b[0;31m         \u001b[1;32mreturn\u001b[0m \u001b[0mself\u001b[0m\u001b[1;33m.\u001b[0m\u001b[0m_fetch_helper\u001b[0m\u001b[1;33m(\u001b[0m\u001b[1;33m)\u001b[0m\u001b[1;33m\u001b[0m\u001b[0m\n\u001b[0m\u001b[1;32m   1462\u001b[0m \u001b[1;33m\u001b[0m\u001b[0m\n",
      "\u001b[0;32mC:\\Program Files\\Anaconda3\\lib\\site-packages\\ibm_db_dbi.py\u001b[0m in \u001b[0;36m_fetch_helper\u001b[0;34m(self, fetch_size)\u001b[0m\n\u001b[1;32m   1417\u001b[0m                 \u001b[1;32mif\u001b[0m \u001b[0mlen\u001b[0m\u001b[1;33m(\u001b[0m\u001b[0mrow_list\u001b[0m\u001b[1;33m)\u001b[0m \u001b[1;33m==\u001b[0m \u001b[1;36m0\u001b[0m\u001b[1;33m:\u001b[0m\u001b[1;33m\u001b[0m\u001b[0m\n\u001b[0;32m-> 1418\u001b[0;31m                     \u001b[1;32mraise\u001b[0m \u001b[0mself\u001b[0m\u001b[1;33m.\u001b[0m\u001b[0mmessages\u001b[0m\u001b[1;33m[\u001b[0m\u001b[0mlen\u001b[0m\u001b[1;33m(\u001b[0m\u001b[0mself\u001b[0m\u001b[1;33m.\u001b[0m\u001b[0mmessages\u001b[0m\u001b[1;33m)\u001b[0m \u001b[1;33m-\u001b[0m \u001b[1;36m1\u001b[0m\u001b[1;33m]\u001b[0m\u001b[1;33m\u001b[0m\u001b[0m\n\u001b[0m\u001b[1;32m   1419\u001b[0m                 \u001b[1;32melse\u001b[0m\u001b[1;33m:\u001b[0m\u001b[1;33m\u001b[0m\u001b[0m\n",
      "\u001b[0;31mInternalError\u001b[0m: ibm_db_dbi::InternalError: Fetch Failure: [IBM][CLI Driver] CLI0115E  Invalid cursor state. SQLSTATE=24000 SQLCODE=-99999",
      "\nThe above exception was the direct cause of the following exception:\n",
      "\u001b[0;31mInternalError\u001b[0m                             Traceback (most recent call last)",
      "\u001b[0;32m<ipython-input-91-f1e8105aed5c>\u001b[0m in \u001b[0;36m<module>\u001b[0;34m()\u001b[0m\n\u001b[1;32m      1\u001b[0m \u001b[0mget_ipython\u001b[0m\u001b[1;33m(\u001b[0m\u001b[1;33m)\u001b[0m\u001b[1;33m.\u001b[0m\u001b[0mmagic\u001b[0m\u001b[1;33m(\u001b[0m\u001b[1;34m'sql set current explain mode explain'\u001b[0m\u001b[1;33m)\u001b[0m\u001b[1;33m\u001b[0m\u001b[0m\n\u001b[1;32m      2\u001b[0m \u001b[1;31m# Below will return CLI0115E, but that is expected and it works fine.\u001b[0m\u001b[1;33m\u001b[0m\u001b[1;33m\u001b[0m\u001b[0m\n\u001b[0;32m----> 3\u001b[0;31m \u001b[0mget_ipython\u001b[0m\u001b[1;33m(\u001b[0m\u001b[1;33m)\u001b[0m\u001b[1;33m.\u001b[0m\u001b[0mmagic\u001b[0m\u001b[1;33m(\u001b[0m\u001b[1;34m'sql select bpname from syscat.bufferpools'\u001b[0m\u001b[1;33m)\u001b[0m\u001b[1;33m\u001b[0m\u001b[0m\n\u001b[0m",
      "\u001b[0;32mC:\\Program Files\\Anaconda3\\lib\\site-packages\\IPython\\core\\interactiveshell.py\u001b[0m in \u001b[0;36mmagic\u001b[0;34m(self, arg_s)\u001b[0m\n\u001b[1;32m   2156\u001b[0m         \u001b[0mmagic_name\u001b[0m\u001b[1;33m,\u001b[0m \u001b[0m_\u001b[0m\u001b[1;33m,\u001b[0m \u001b[0mmagic_arg_s\u001b[0m \u001b[1;33m=\u001b[0m \u001b[0marg_s\u001b[0m\u001b[1;33m.\u001b[0m\u001b[0mpartition\u001b[0m\u001b[1;33m(\u001b[0m\u001b[1;34m' '\u001b[0m\u001b[1;33m)\u001b[0m\u001b[1;33m\u001b[0m\u001b[0m\n\u001b[1;32m   2157\u001b[0m         \u001b[0mmagic_name\u001b[0m \u001b[1;33m=\u001b[0m \u001b[0mmagic_name\u001b[0m\u001b[1;33m.\u001b[0m\u001b[0mlstrip\u001b[0m\u001b[1;33m(\u001b[0m\u001b[0mprefilter\u001b[0m\u001b[1;33m.\u001b[0m\u001b[0mESC_MAGIC\u001b[0m\u001b[1;33m)\u001b[0m\u001b[1;33m\u001b[0m\u001b[0m\n\u001b[0;32m-> 2158\u001b[0;31m         \u001b[1;32mreturn\u001b[0m \u001b[0mself\u001b[0m\u001b[1;33m.\u001b[0m\u001b[0mrun_line_magic\u001b[0m\u001b[1;33m(\u001b[0m\u001b[0mmagic_name\u001b[0m\u001b[1;33m,\u001b[0m \u001b[0mmagic_arg_s\u001b[0m\u001b[1;33m)\u001b[0m\u001b[1;33m\u001b[0m\u001b[0m\n\u001b[0m\u001b[1;32m   2159\u001b[0m \u001b[1;33m\u001b[0m\u001b[0m\n\u001b[1;32m   2160\u001b[0m     \u001b[1;31m#-------------------------------------------------------------------------\u001b[0m\u001b[1;33m\u001b[0m\u001b[1;33m\u001b[0m\u001b[0m\n",
      "\u001b[0;32mC:\\Program Files\\Anaconda3\\lib\\site-packages\\IPython\\core\\interactiveshell.py\u001b[0m in \u001b[0;36mrun_line_magic\u001b[0;34m(self, magic_name, line)\u001b[0m\n\u001b[1;32m   2077\u001b[0m                 \u001b[0mkwargs\u001b[0m\u001b[1;33m[\u001b[0m\u001b[1;34m'local_ns'\u001b[0m\u001b[1;33m]\u001b[0m \u001b[1;33m=\u001b[0m \u001b[0msys\u001b[0m\u001b[1;33m.\u001b[0m\u001b[0m_getframe\u001b[0m\u001b[1;33m(\u001b[0m\u001b[0mstack_depth\u001b[0m\u001b[1;33m)\u001b[0m\u001b[1;33m.\u001b[0m\u001b[0mf_locals\u001b[0m\u001b[1;33m\u001b[0m\u001b[0m\n\u001b[1;32m   2078\u001b[0m             \u001b[1;32mwith\u001b[0m \u001b[0mself\u001b[0m\u001b[1;33m.\u001b[0m\u001b[0mbuiltin_trap\u001b[0m\u001b[1;33m:\u001b[0m\u001b[1;33m\u001b[0m\u001b[0m\n\u001b[0;32m-> 2079\u001b[0;31m                 \u001b[0mresult\u001b[0m \u001b[1;33m=\u001b[0m \u001b[0mfn\u001b[0m\u001b[1;33m(\u001b[0m\u001b[1;33m*\u001b[0m\u001b[0margs\u001b[0m\u001b[1;33m,\u001b[0m\u001b[1;33m**\u001b[0m\u001b[0mkwargs\u001b[0m\u001b[1;33m)\u001b[0m\u001b[1;33m\u001b[0m\u001b[0m\n\u001b[0m\u001b[1;32m   2080\u001b[0m             \u001b[1;32mreturn\u001b[0m \u001b[0mresult\u001b[0m\u001b[1;33m\u001b[0m\u001b[0m\n\u001b[1;32m   2081\u001b[0m \u001b[1;33m\u001b[0m\u001b[0m\n",
      "\u001b[0;32m<decorator-gen-124>\u001b[0m in \u001b[0;36mexecute\u001b[0;34m(self, line, cell, local_ns)\u001b[0m\n",
      "\u001b[0;32mC:\\Program Files\\Anaconda3\\lib\\site-packages\\IPython\\core\\magic.py\u001b[0m in \u001b[0;36m<lambda>\u001b[0;34m(f, *a, **k)\u001b[0m\n\u001b[1;32m    186\u001b[0m     \u001b[1;31m# but it's overkill for just that one bit of state.\u001b[0m\u001b[1;33m\u001b[0m\u001b[1;33m\u001b[0m\u001b[0m\n\u001b[1;32m    187\u001b[0m     \u001b[1;32mdef\u001b[0m \u001b[0mmagic_deco\u001b[0m\u001b[1;33m(\u001b[0m\u001b[0marg\u001b[0m\u001b[1;33m)\u001b[0m\u001b[1;33m:\u001b[0m\u001b[1;33m\u001b[0m\u001b[0m\n\u001b[0;32m--> 188\u001b[0;31m         \u001b[0mcall\u001b[0m \u001b[1;33m=\u001b[0m \u001b[1;32mlambda\u001b[0m \u001b[0mf\u001b[0m\u001b[1;33m,\u001b[0m \u001b[1;33m*\u001b[0m\u001b[0ma\u001b[0m\u001b[1;33m,\u001b[0m \u001b[1;33m**\u001b[0m\u001b[0mk\u001b[0m\u001b[1;33m:\u001b[0m \u001b[0mf\u001b[0m\u001b[1;33m(\u001b[0m\u001b[1;33m*\u001b[0m\u001b[0ma\u001b[0m\u001b[1;33m,\u001b[0m \u001b[1;33m**\u001b[0m\u001b[0mk\u001b[0m\u001b[1;33m)\u001b[0m\u001b[1;33m\u001b[0m\u001b[0m\n\u001b[0m\u001b[1;32m    189\u001b[0m \u001b[1;33m\u001b[0m\u001b[0m\n\u001b[1;32m    190\u001b[0m         \u001b[1;32mif\u001b[0m \u001b[0mcallable\u001b[0m\u001b[1;33m(\u001b[0m\u001b[0marg\u001b[0m\u001b[1;33m)\u001b[0m\u001b[1;33m:\u001b[0m\u001b[1;33m\u001b[0m\u001b[0m\n",
      "\u001b[0;32m<decorator-gen-123>\u001b[0m in \u001b[0;36mexecute\u001b[0;34m(self, line, cell, local_ns)\u001b[0m\n",
      "\u001b[0;32mC:\\Program Files\\Anaconda3\\lib\\site-packages\\IPython\\core\\magic.py\u001b[0m in \u001b[0;36m<lambda>\u001b[0;34m(f, *a, **k)\u001b[0m\n\u001b[1;32m    186\u001b[0m     \u001b[1;31m# but it's overkill for just that one bit of state.\u001b[0m\u001b[1;33m\u001b[0m\u001b[1;33m\u001b[0m\u001b[0m\n\u001b[1;32m    187\u001b[0m     \u001b[1;32mdef\u001b[0m \u001b[0mmagic_deco\u001b[0m\u001b[1;33m(\u001b[0m\u001b[0marg\u001b[0m\u001b[1;33m)\u001b[0m\u001b[1;33m:\u001b[0m\u001b[1;33m\u001b[0m\u001b[0m\n\u001b[0;32m--> 188\u001b[0;31m         \u001b[0mcall\u001b[0m \u001b[1;33m=\u001b[0m \u001b[1;32mlambda\u001b[0m \u001b[0mf\u001b[0m\u001b[1;33m,\u001b[0m \u001b[1;33m*\u001b[0m\u001b[0ma\u001b[0m\u001b[1;33m,\u001b[0m \u001b[1;33m**\u001b[0m\u001b[0mk\u001b[0m\u001b[1;33m:\u001b[0m \u001b[0mf\u001b[0m\u001b[1;33m(\u001b[0m\u001b[1;33m*\u001b[0m\u001b[0ma\u001b[0m\u001b[1;33m,\u001b[0m \u001b[1;33m**\u001b[0m\u001b[0mk\u001b[0m\u001b[1;33m)\u001b[0m\u001b[1;33m\u001b[0m\u001b[0m\n\u001b[0m\u001b[1;32m    189\u001b[0m \u001b[1;33m\u001b[0m\u001b[0m\n\u001b[1;32m    190\u001b[0m         \u001b[1;32mif\u001b[0m \u001b[0mcallable\u001b[0m\u001b[1;33m(\u001b[0m\u001b[0marg\u001b[0m\u001b[1;33m)\u001b[0m\u001b[1;33m:\u001b[0m\u001b[1;33m\u001b[0m\u001b[0m\n",
      "\u001b[0;32mC:\\Program Files\\Anaconda3\\lib\\site-packages\\sql\\magic.py\u001b[0m in \u001b[0;36mexecute\u001b[0;34m(self, line, cell, local_ns)\u001b[0m\n\u001b[1;32m     85\u001b[0m \u001b[1;33m\u001b[0m\u001b[0m\n\u001b[1;32m     86\u001b[0m         \u001b[1;32mtry\u001b[0m\u001b[1;33m:\u001b[0m\u001b[1;33m\u001b[0m\u001b[0m\n\u001b[0;32m---> 87\u001b[0;31m             \u001b[0mresult\u001b[0m \u001b[1;33m=\u001b[0m \u001b[0msql\u001b[0m\u001b[1;33m.\u001b[0m\u001b[0mrun\u001b[0m\u001b[1;33m.\u001b[0m\u001b[0mrun\u001b[0m\u001b[1;33m(\u001b[0m\u001b[0mconn\u001b[0m\u001b[1;33m,\u001b[0m \u001b[0mparsed\u001b[0m\u001b[1;33m[\u001b[0m\u001b[1;34m'sql'\u001b[0m\u001b[1;33m]\u001b[0m\u001b[1;33m,\u001b[0m \u001b[0mself\u001b[0m\u001b[1;33m,\u001b[0m \u001b[0muser_ns\u001b[0m\u001b[1;33m)\u001b[0m\u001b[1;33m\u001b[0m\u001b[0m\n\u001b[0m\u001b[1;32m     88\u001b[0m \u001b[1;33m\u001b[0m\u001b[0m\n\u001b[1;32m     89\u001b[0m             \u001b[1;32mif\u001b[0m \u001b[0mresult\u001b[0m \u001b[1;32mand\u001b[0m \u001b[1;33m~\u001b[0m\u001b[0misinstance\u001b[0m\u001b[1;33m(\u001b[0m\u001b[0mresult\u001b[0m\u001b[1;33m,\u001b[0m \u001b[0mstr\u001b[0m\u001b[1;33m)\u001b[0m \u001b[1;32mand\u001b[0m \u001b[0mself\u001b[0m\u001b[1;33m.\u001b[0m\u001b[0mcolumn_local_vars\u001b[0m\u001b[1;33m:\u001b[0m\u001b[1;33m\u001b[0m\u001b[0m\n",
      "\u001b[0;32mC:\\Program Files\\Anaconda3\\lib\\site-packages\\sql\\run.py\u001b[0m in \u001b[0;36mrun\u001b[0;34m(conn, sql, config, user_namespace)\u001b[0m\n\u001b[1;32m    283\u001b[0m             \u001b[1;32mif\u001b[0m \u001b[0mresult\u001b[0m \u001b[1;32mand\u001b[0m \u001b[0mconfig\u001b[0m\u001b[1;33m.\u001b[0m\u001b[0mfeedback\u001b[0m\u001b[1;33m:\u001b[0m\u001b[1;33m\u001b[0m\u001b[0m\n\u001b[1;32m    284\u001b[0m                 \u001b[0mprint\u001b[0m\u001b[1;33m(\u001b[0m\u001b[0minterpret_rowcount\u001b[0m\u001b[1;33m(\u001b[0m\u001b[0mresult\u001b[0m\u001b[1;33m.\u001b[0m\u001b[0mrowcount\u001b[0m\u001b[1;33m)\u001b[0m\u001b[1;33m)\u001b[0m\u001b[1;33m\u001b[0m\u001b[0m\n\u001b[0;32m--> 285\u001b[0;31m         \u001b[0mresultset\u001b[0m \u001b[1;33m=\u001b[0m \u001b[0mResultSet\u001b[0m\u001b[1;33m(\u001b[0m\u001b[0mresult\u001b[0m\u001b[1;33m,\u001b[0m \u001b[0mstatement\u001b[0m\u001b[1;33m,\u001b[0m \u001b[0mconfig\u001b[0m\u001b[1;33m)\u001b[0m\u001b[1;33m\u001b[0m\u001b[0m\n\u001b[0m\u001b[1;32m    286\u001b[0m         \u001b[1;32mif\u001b[0m \u001b[0mconfig\u001b[0m\u001b[1;33m.\u001b[0m\u001b[0mautopandas\u001b[0m\u001b[1;33m:\u001b[0m\u001b[1;33m\u001b[0m\u001b[0m\n\u001b[1;32m    287\u001b[0m             \u001b[1;32mreturn\u001b[0m \u001b[0mresultset\u001b[0m\u001b[1;33m.\u001b[0m\u001b[0mDataFrame\u001b[0m\u001b[1;33m(\u001b[0m\u001b[1;33m)\u001b[0m\u001b[1;33m\u001b[0m\u001b[0m\n",
      "\u001b[0;32mC:\\Program Files\\Anaconda3\\lib\\site-packages\\sql\\run.py\u001b[0m in \u001b[0;36m__init__\u001b[0;34m(self, sqlaproxy, sql, config)\u001b[0m\n\u001b[1;32m    103\u001b[0m                 \u001b[0mlist\u001b[0m\u001b[1;33m.\u001b[0m\u001b[0m__init__\u001b[0m\u001b[1;33m(\u001b[0m\u001b[0mself\u001b[0m\u001b[1;33m,\u001b[0m \u001b[0msqlaproxy\u001b[0m\u001b[1;33m.\u001b[0m\u001b[0mfetchmany\u001b[0m\u001b[1;33m(\u001b[0m\u001b[0msize\u001b[0m\u001b[1;33m=\u001b[0m\u001b[0mself\u001b[0m\u001b[1;33m.\u001b[0m\u001b[0mlimit\u001b[0m\u001b[1;33m)\u001b[0m\u001b[1;33m)\u001b[0m\u001b[1;33m\u001b[0m\u001b[0m\n\u001b[1;32m    104\u001b[0m             \u001b[1;32melse\u001b[0m\u001b[1;33m:\u001b[0m\u001b[1;33m\u001b[0m\u001b[0m\n\u001b[0;32m--> 105\u001b[0;31m                 \u001b[0mlist\u001b[0m\u001b[1;33m.\u001b[0m\u001b[0m__init__\u001b[0m\u001b[1;33m(\u001b[0m\u001b[0mself\u001b[0m\u001b[1;33m,\u001b[0m \u001b[0msqlaproxy\u001b[0m\u001b[1;33m.\u001b[0m\u001b[0mfetchall\u001b[0m\u001b[1;33m(\u001b[0m\u001b[1;33m)\u001b[0m\u001b[1;33m)\u001b[0m\u001b[1;33m\u001b[0m\u001b[0m\n\u001b[0m\u001b[1;32m    106\u001b[0m             \u001b[0mself\u001b[0m\u001b[1;33m.\u001b[0m\u001b[0mfield_names\u001b[0m \u001b[1;33m=\u001b[0m \u001b[0munduplicate_field_names\u001b[0m\u001b[1;33m(\u001b[0m\u001b[0mself\u001b[0m\u001b[1;33m.\u001b[0m\u001b[0mkeys\u001b[0m\u001b[1;33m)\u001b[0m\u001b[1;33m\u001b[0m\u001b[0m\n\u001b[1;32m    107\u001b[0m             \u001b[0mself\u001b[0m\u001b[1;33m.\u001b[0m\u001b[0mpretty\u001b[0m \u001b[1;33m=\u001b[0m \u001b[0mprettytable\u001b[0m\u001b[1;33m.\u001b[0m\u001b[0mPrettyTable\u001b[0m\u001b[1;33m(\u001b[0m\u001b[0mself\u001b[0m\u001b[1;33m.\u001b[0m\u001b[0mfield_names\u001b[0m\u001b[1;33m)\u001b[0m\u001b[1;33m\u001b[0m\u001b[0m\n",
      "\u001b[0;32mC:\\Program Files\\Anaconda3\\lib\\site-packages\\sqlalchemy\\engine\\result.py\u001b[0m in \u001b[0;36mfetchall\u001b[0;34m(self)\u001b[0m\n\u001b[1;32m    968\u001b[0m             self.connection._handle_dbapi_exception(\n\u001b[1;32m    969\u001b[0m                 \u001b[0me\u001b[0m\u001b[1;33m,\u001b[0m \u001b[1;32mNone\u001b[0m\u001b[1;33m,\u001b[0m \u001b[1;32mNone\u001b[0m\u001b[1;33m,\u001b[0m\u001b[1;33m\u001b[0m\u001b[0m\n\u001b[0;32m--> 970\u001b[0;31m                 self.cursor, self.context)\n\u001b[0m\u001b[1;32m    971\u001b[0m \u001b[1;33m\u001b[0m\u001b[0m\n\u001b[1;32m    972\u001b[0m     \u001b[1;32mdef\u001b[0m \u001b[0mfetchmany\u001b[0m\u001b[1;33m(\u001b[0m\u001b[0mself\u001b[0m\u001b[1;33m,\u001b[0m \u001b[0msize\u001b[0m\u001b[1;33m=\u001b[0m\u001b[1;32mNone\u001b[0m\u001b[1;33m)\u001b[0m\u001b[1;33m:\u001b[0m\u001b[1;33m\u001b[0m\u001b[0m\n",
      "\u001b[0;32mC:\\Program Files\\Anaconda3\\lib\\site-packages\\sqlalchemy\\engine\\base.py\u001b[0m in \u001b[0;36m_handle_dbapi_exception\u001b[0;34m(self, e, statement, parameters, cursor, context)\u001b[0m\n\u001b[1;32m   1339\u001b[0m                 util.raise_from_cause(\n\u001b[1;32m   1340\u001b[0m                     \u001b[0msqlalchemy_exception\u001b[0m\u001b[1;33m,\u001b[0m\u001b[1;33m\u001b[0m\u001b[0m\n\u001b[0;32m-> 1341\u001b[0;31m                     \u001b[0mexc_info\u001b[0m\u001b[1;33m\u001b[0m\u001b[0m\n\u001b[0m\u001b[1;32m   1342\u001b[0m                 )\n\u001b[1;32m   1343\u001b[0m             \u001b[1;32melse\u001b[0m\u001b[1;33m:\u001b[0m\u001b[1;33m\u001b[0m\u001b[0m\n",
      "\u001b[0;32mC:\\Program Files\\Anaconda3\\lib\\site-packages\\sqlalchemy\\util\\compat.py\u001b[0m in \u001b[0;36mraise_from_cause\u001b[0;34m(exception, exc_info)\u001b[0m\n\u001b[1;32m    200\u001b[0m     \u001b[0mexc_type\u001b[0m\u001b[1;33m,\u001b[0m \u001b[0mexc_value\u001b[0m\u001b[1;33m,\u001b[0m \u001b[0mexc_tb\u001b[0m \u001b[1;33m=\u001b[0m \u001b[0mexc_info\u001b[0m\u001b[1;33m\u001b[0m\u001b[0m\n\u001b[1;32m    201\u001b[0m     \u001b[0mcause\u001b[0m \u001b[1;33m=\u001b[0m \u001b[0mexc_value\u001b[0m \u001b[1;32mif\u001b[0m \u001b[0mexc_value\u001b[0m \u001b[1;32mis\u001b[0m \u001b[1;32mnot\u001b[0m \u001b[0mexception\u001b[0m \u001b[1;32melse\u001b[0m \u001b[1;32mNone\u001b[0m\u001b[1;33m\u001b[0m\u001b[0m\n\u001b[0;32m--> 202\u001b[0;31m     \u001b[0mreraise\u001b[0m\u001b[1;33m(\u001b[0m\u001b[0mtype\u001b[0m\u001b[1;33m(\u001b[0m\u001b[0mexception\u001b[0m\u001b[1;33m)\u001b[0m\u001b[1;33m,\u001b[0m \u001b[0mexception\u001b[0m\u001b[1;33m,\u001b[0m \u001b[0mtb\u001b[0m\u001b[1;33m=\u001b[0m\u001b[0mexc_tb\u001b[0m\u001b[1;33m,\u001b[0m \u001b[0mcause\u001b[0m\u001b[1;33m=\u001b[0m\u001b[0mcause\u001b[0m\u001b[1;33m)\u001b[0m\u001b[1;33m\u001b[0m\u001b[0m\n\u001b[0m\u001b[1;32m    203\u001b[0m \u001b[1;33m\u001b[0m\u001b[0m\n\u001b[1;32m    204\u001b[0m \u001b[1;32mif\u001b[0m \u001b[0mpy3k\u001b[0m\u001b[1;33m:\u001b[0m\u001b[1;33m\u001b[0m\u001b[0m\n",
      "\u001b[0;32mC:\\Program Files\\Anaconda3\\lib\\site-packages\\sqlalchemy\\util\\compat.py\u001b[0m in \u001b[0;36mreraise\u001b[0;34m(tp, value, tb, cause)\u001b[0m\n\u001b[1;32m    183\u001b[0m             \u001b[0mvalue\u001b[0m\u001b[1;33m.\u001b[0m\u001b[0m__cause__\u001b[0m \u001b[1;33m=\u001b[0m \u001b[0mcause\u001b[0m\u001b[1;33m\u001b[0m\u001b[0m\n\u001b[1;32m    184\u001b[0m         \u001b[1;32mif\u001b[0m \u001b[0mvalue\u001b[0m\u001b[1;33m.\u001b[0m\u001b[0m__traceback__\u001b[0m \u001b[1;32mis\u001b[0m \u001b[1;32mnot\u001b[0m \u001b[0mtb\u001b[0m\u001b[1;33m:\u001b[0m\u001b[1;33m\u001b[0m\u001b[0m\n\u001b[0;32m--> 185\u001b[0;31m             \u001b[1;32mraise\u001b[0m \u001b[0mvalue\u001b[0m\u001b[1;33m.\u001b[0m\u001b[0mwith_traceback\u001b[0m\u001b[1;33m(\u001b[0m\u001b[0mtb\u001b[0m\u001b[1;33m)\u001b[0m\u001b[1;33m\u001b[0m\u001b[0m\n\u001b[0m\u001b[1;32m    186\u001b[0m         \u001b[1;32mraise\u001b[0m \u001b[0mvalue\u001b[0m\u001b[1;33m\u001b[0m\u001b[0m\n\u001b[1;32m    187\u001b[0m \u001b[1;33m\u001b[0m\u001b[0m\n",
      "\u001b[0;32mC:\\Program Files\\Anaconda3\\lib\\site-packages\\sqlalchemy\\engine\\result.py\u001b[0m in \u001b[0;36mfetchall\u001b[0;34m(self)\u001b[0m\n\u001b[1;32m    962\u001b[0m \u001b[1;33m\u001b[0m\u001b[0m\n\u001b[1;32m    963\u001b[0m         \u001b[1;32mtry\u001b[0m\u001b[1;33m:\u001b[0m\u001b[1;33m\u001b[0m\u001b[0m\n\u001b[0;32m--> 964\u001b[0;31m             \u001b[0ml\u001b[0m \u001b[1;33m=\u001b[0m \u001b[0mself\u001b[0m\u001b[1;33m.\u001b[0m\u001b[0mprocess_rows\u001b[0m\u001b[1;33m(\u001b[0m\u001b[0mself\u001b[0m\u001b[1;33m.\u001b[0m\u001b[0m_fetchall_impl\u001b[0m\u001b[1;33m(\u001b[0m\u001b[1;33m)\u001b[0m\u001b[1;33m)\u001b[0m\u001b[1;33m\u001b[0m\u001b[0m\n\u001b[0m\u001b[1;32m    965\u001b[0m             \u001b[0mself\u001b[0m\u001b[1;33m.\u001b[0m\u001b[0m_soft_close\u001b[0m\u001b[1;33m(\u001b[0m\u001b[1;33m)\u001b[0m\u001b[1;33m\u001b[0m\u001b[0m\n\u001b[1;32m    966\u001b[0m             \u001b[1;32mreturn\u001b[0m \u001b[0ml\u001b[0m\u001b[1;33m\u001b[0m\u001b[0m\n",
      "\u001b[0;32mC:\\Program Files\\Anaconda3\\lib\\site-packages\\sqlalchemy\\engine\\result.py\u001b[0m in \u001b[0;36m_fetchall_impl\u001b[0;34m(self)\u001b[0m\n\u001b[1;32m    913\u001b[0m     \u001b[1;32mdef\u001b[0m \u001b[0m_fetchall_impl\u001b[0m\u001b[1;33m(\u001b[0m\u001b[0mself\u001b[0m\u001b[1;33m)\u001b[0m\u001b[1;33m:\u001b[0m\u001b[1;33m\u001b[0m\u001b[0m\n\u001b[1;32m    914\u001b[0m         \u001b[1;32mtry\u001b[0m\u001b[1;33m:\u001b[0m\u001b[1;33m\u001b[0m\u001b[0m\n\u001b[0;32m--> 915\u001b[0;31m             \u001b[1;32mreturn\u001b[0m \u001b[0mself\u001b[0m\u001b[1;33m.\u001b[0m\u001b[0mcursor\u001b[0m\u001b[1;33m.\u001b[0m\u001b[0mfetchall\u001b[0m\u001b[1;33m(\u001b[0m\u001b[1;33m)\u001b[0m\u001b[1;33m\u001b[0m\u001b[0m\n\u001b[0m\u001b[1;32m    916\u001b[0m         \u001b[1;32mexcept\u001b[0m \u001b[0mAttributeError\u001b[0m\u001b[1;33m:\u001b[0m\u001b[1;33m\u001b[0m\u001b[0m\n\u001b[1;32m    917\u001b[0m             \u001b[1;32mreturn\u001b[0m \u001b[0mself\u001b[0m\u001b[1;33m.\u001b[0m\u001b[0m_non_result\u001b[0m\u001b[1;33m(\u001b[0m\u001b[1;33m[\u001b[0m\u001b[1;33m]\u001b[0m\u001b[1;33m)\u001b[0m\u001b[1;33m\u001b[0m\u001b[0m\n",
      "\u001b[0;32mC:\\Program Files\\Anaconda3\\lib\\site-packages\\ibm_db_dbi.py\u001b[0m in \u001b[0;36mfetchall\u001b[0;34m(self)\u001b[0m\n\u001b[1;32m   1459\u001b[0m         \u001b[0mafter\u001b[0m \u001b[0mexecuting\u001b[0m \u001b[0man\u001b[0m \u001b[0mSQL\u001b[0m \u001b[0mstatement\u001b[0m \u001b[0mwhich\u001b[0m \u001b[0mproduces\u001b[0m \u001b[0ma\u001b[0m \u001b[0mresult\u001b[0m \u001b[0mset\u001b[0m\u001b[1;33m.\u001b[0m\u001b[1;33m\u001b[0m\u001b[0m\n\u001b[1;32m   1460\u001b[0m         \"\"\"\n\u001b[0;32m-> 1461\u001b[0;31m         \u001b[1;32mreturn\u001b[0m \u001b[0mself\u001b[0m\u001b[1;33m.\u001b[0m\u001b[0m_fetch_helper\u001b[0m\u001b[1;33m(\u001b[0m\u001b[1;33m)\u001b[0m\u001b[1;33m\u001b[0m\u001b[0m\n\u001b[0m\u001b[1;32m   1462\u001b[0m \u001b[1;33m\u001b[0m\u001b[0m\n\u001b[1;32m   1463\u001b[0m     \u001b[1;32mdef\u001b[0m \u001b[0mnextset\u001b[0m\u001b[1;33m(\u001b[0m\u001b[0mself\u001b[0m\u001b[1;33m)\u001b[0m\u001b[1;33m:\u001b[0m\u001b[1;33m\u001b[0m\u001b[0m\n",
      "\u001b[0;32mC:\\Program Files\\Anaconda3\\lib\\site-packages\\ibm_db_dbi.py\u001b[0m in \u001b[0;36m_fetch_helper\u001b[0;34m(self, fetch_size)\u001b[0m\n\u001b[1;32m   1416\u001b[0m                 \u001b[0mself\u001b[0m\u001b[1;33m.\u001b[0m\u001b[0mmessages\u001b[0m\u001b[1;33m.\u001b[0m\u001b[0mappend\u001b[0m\u001b[1;33m(\u001b[0m\u001b[0m_get_exception\u001b[0m\u001b[1;33m(\u001b[0m\u001b[0minst\u001b[0m\u001b[1;33m)\u001b[0m\u001b[1;33m)\u001b[0m\u001b[1;33m\u001b[0m\u001b[0m\n\u001b[1;32m   1417\u001b[0m                 \u001b[1;32mif\u001b[0m \u001b[0mlen\u001b[0m\u001b[1;33m(\u001b[0m\u001b[0mrow_list\u001b[0m\u001b[1;33m)\u001b[0m \u001b[1;33m==\u001b[0m \u001b[1;36m0\u001b[0m\u001b[1;33m:\u001b[0m\u001b[1;33m\u001b[0m\u001b[0m\n\u001b[0;32m-> 1418\u001b[0;31m                     \u001b[1;32mraise\u001b[0m \u001b[0mself\u001b[0m\u001b[1;33m.\u001b[0m\u001b[0mmessages\u001b[0m\u001b[1;33m[\u001b[0m\u001b[0mlen\u001b[0m\u001b[1;33m(\u001b[0m\u001b[0mself\u001b[0m\u001b[1;33m.\u001b[0m\u001b[0mmessages\u001b[0m\u001b[1;33m)\u001b[0m \u001b[1;33m-\u001b[0m \u001b[1;36m1\u001b[0m\u001b[1;33m]\u001b[0m\u001b[1;33m\u001b[0m\u001b[0m\n\u001b[0m\u001b[1;32m   1419\u001b[0m                 \u001b[1;32melse\u001b[0m\u001b[1;33m:\u001b[0m\u001b[1;33m\u001b[0m\u001b[0m\n\u001b[1;32m   1420\u001b[0m                     \u001b[1;32mreturn\u001b[0m \u001b[0mrow_list\u001b[0m\u001b[1;33m\u001b[0m\u001b[0m\n",
      "\u001b[0;31mInternalError\u001b[0m: (ibm_db_dbi.InternalError) ibm_db_dbi::InternalError: Fetch Failure: [IBM][CLI Driver] CLI0115E  Invalid cursor state. SQLSTATE=24000 SQLCODE=-99999"
     ]
    }
   ],
   "source": [
    "%sql set current explain mode explain\n",
    "# Below will return CLI0115E, but that is expected and it works fine.\n",
    "%sql select bpname from syscat.bufferpools"
   ]
  },
  {
   "cell_type": "code",
   "execution_count": 92,
   "metadata": {
    "collapsed": false
   },
   "outputs": [
    {
     "name": "stdout",
     "output_type": "stream",
     "text": [
      "Done.\n"
     ]
    },
    {
     "data": {
      "text/plain": [
       "[]"
      ]
     },
     "execution_count": 92,
     "metadata": {},
     "output_type": "execute_result"
    }
   ],
   "source": [
    "%sql set current explain mode no"
   ]
  },
  {
   "cell_type": "code",
   "execution_count": 93,
   "metadata": {
    "collapsed": false,
    "scrolled": true
   },
   "outputs": [
    {
     "name": "stdout",
     "output_type": "stream",
     "text": [
      "Connecting to the Database.\n"
     ]
    },
    {
     "name": "stderr",
     "output_type": "stream",
     "text": [
      "DB2 Universal Database Version 11.1, 5622-044 (c) Copyright IBM Corp. 1991, 2015\n",
      "Licensed Material - Program Property of IBM\n",
      "IBM DATABASE 2 Explain Table Format Tool\n",
      "\n",
      "Connect to Database Successful.\n",
      "Using SYSTOOLS schema for Explain tables.\n",
      "Output is in query_exfmt.txt.\n",
      "Executing Connect Reset -- Connect Reset was Successful.\n"
     ]
    }
   ],
   "source": [
    "!db2exfmt -d SAMPLE -1 -o query_exfmt.txt"
   ]
  },
  {
   "cell_type": "code",
   "execution_count": 94,
   "metadata": {
    "collapsed": false
   },
   "outputs": [
    {
     "name": "stdout",
     "output_type": "stream",
     "text": [
      "\n",
      "-----------\n",
      "\tTotal Cost: \t\t0.00922488\n",
      "\tQuery Degree:\t\t1\n",
      "\n",
      "\n",
      "       Rows\n",
      "      RETURN\n",
      "      (   1)\n",
      "       Cost\n",
      "        I/O\n",
      "        |\n",
      "         2\n",
      "      IXSCAN\n",
      "      (   2)\n",
      "    0.00922488\n",
      "         0\n",
      "        |\n",
      "         2\n",
      "  INDEX: SYSIBM\n",
      " INDBUFFERPOOLS01\n",
      "        Q1\n",
      "\n",
      "\n",
      "\n"
     ]
    }
   ],
   "source": [
    "with open(\"query_exfmt.txt\") as f:\n",
    "    for line in f:\n",
    "        if line.rstrip() == \"Access Plan:\":\n",
    "            print(\"\")\n",
    "            for line in f:\n",
    "                if line.rstrip() == \"Extended Diagnostic Information:\":\n",
    "                    break\n",
    "                print(line.rstrip())"
   ]
  },
  {
   "cell_type": "code",
   "execution_count": null,
   "metadata": {
    "collapsed": true
   },
   "outputs": [],
   "source": []
  }
 ],
 "metadata": {
  "anaconda-cloud": {},
  "kernelspec": {
   "display_name": "Python [default]",
   "language": "python",
   "name": "python3"
  },
  "language_info": {
   "codemirror_mode": {
    "name": "ipython",
    "version": 3
   },
   "file_extension": ".py",
   "mimetype": "text/x-python",
   "name": "python",
   "nbconvert_exporter": "python",
   "pygments_lexer": "ipython3",
   "version": "3.5.2"
  },
  "nbpresent": {
   "slides": {
    "22dcdcf5-66fa-44b1-a05f-d8e97245d75f": {
     "id": "22dcdcf5-66fa-44b1-a05f-d8e97245d75f",
     "prev": null,
     "regions": {
      "6b013448-d8a6-4960-90f2-351fbea524c0": {
       "attrs": {
        "height": 1,
        "width": 1,
        "x": 0,
        "y": 0
       },
       "content": {
        "cell": "3d3036b2-9850-4506-8e41-60d40c788d18",
        "part": "source"
       },
       "id": "6b013448-d8a6-4960-90f2-351fbea524c0"
      }
     }
    },
    "2c446d31-ad6f-495f-98d8-3861623b455d": {
     "id": "2c446d31-ad6f-495f-98d8-3861623b455d",
     "prev": "22dcdcf5-66fa-44b1-a05f-d8e97245d75f",
     "regions": {
      "b1bd1972-69fc-4165-a61b-76a647b9a30c": {
       "attrs": {
        "height": 1,
        "width": 1,
        "x": 0,
        "y": 0
       },
       "content": {
        "cell": "ebd7d540-a6fa-4c84-b2af-2490266d9b3e",
        "part": "source"
       },
       "id": "b1bd1972-69fc-4165-a61b-76a647b9a30c"
      }
     }
    },
    "52ca4573-7087-44b4-b05b-1695aafc3b91": {
     "id": "52ca4573-7087-44b4-b05b-1695aafc3b91",
     "prev": "e2383d77-142f-4e5f-bbfa-0cf3d663a4df",
     "regions": {
      "9097c9d5-db69-4d35-bc75-3f7b8b29b7ac": {
       "attrs": {
        "height": 1,
        "width": 1,
        "x": 0,
        "y": 0
       },
       "content": {
        "cell": "cbed146e-26ba-4018-8484-82b00a1b660b",
        "part": "whole"
       },
       "id": "9097c9d5-db69-4d35-bc75-3f7b8b29b7ac"
      }
     }
    },
    "e2383d77-142f-4e5f-bbfa-0cf3d663a4df": {
     "id": "e2383d77-142f-4e5f-bbfa-0cf3d663a4df",
     "prev": "2c446d31-ad6f-495f-98d8-3861623b455d",
     "regions": {
      "c635ca58-76be-4688-95e3-01922e02cb7b": {
       "attrs": {
        "height": 1,
        "width": 1,
        "x": 0,
        "y": 0
       },
       "content": {
        "cell": "0b310267-394a-49dc-8174-0a3abfbd0aa9",
        "part": "source"
       },
       "id": "c635ca58-76be-4688-95e3-01922e02cb7b"
      }
     }
    }
   },
   "themes": {
    "default": "2f570158-7278-4683-91a6-124381af0191",
    "theme": {
     "2f570158-7278-4683-91a6-124381af0191": {
      "id": "2f570158-7278-4683-91a6-124381af0191",
      "palette": {
       "19cc588f-0593-49c9-9f4b-e4d7cc113b1c": {
        "id": "19cc588f-0593-49c9-9f4b-e4d7cc113b1c",
        "rgb": [
         252,
         252,
         252
        ]
       },
       "31af15d2-7e15-44c5-ab5e-e04b16a89eff": {
        "id": "31af15d2-7e15-44c5-ab5e-e04b16a89eff",
        "rgb": [
         68,
         68,
         68
        ]
       },
       "50f92c45-a630-455b-aec3-788680ec7410": {
        "id": "50f92c45-a630-455b-aec3-788680ec7410",
        "rgb": [
         155,
         177,
         192
        ]
       },
       "c5cc3653-2ee1-402a-aba2-7caae1da4f6c": {
        "id": "c5cc3653-2ee1-402a-aba2-7caae1da4f6c",
        "rgb": [
         43,
         126,
         184
        ]
       },
       "efa7f048-9acb-414c-8b04-a26811511a21": {
        "id": "efa7f048-9acb-414c-8b04-a26811511a21",
        "rgb": [
         25.118061674008803,
         73.60176211453744,
         107.4819383259912
        ]
       }
      },
      "rules": {
       "blockquote": {
        "color": "50f92c45-a630-455b-aec3-788680ec7410"
       },
       "code": {
        "font-family": "Anonymous Pro"
       },
       "h1": {
        "color": "c5cc3653-2ee1-402a-aba2-7caae1da4f6c",
        "font-family": "Lato",
        "font-size": 8
       },
       "h2": {
        "color": "c5cc3653-2ee1-402a-aba2-7caae1da4f6c",
        "font-family": "Lato",
        "font-size": 6
       },
       "h3": {
        "color": "50f92c45-a630-455b-aec3-788680ec7410",
        "font-family": "Lato",
        "font-size": 5.5
       },
       "h4": {
        "color": "c5cc3653-2ee1-402a-aba2-7caae1da4f6c",
        "font-family": "Lato",
        "font-size": 5
       },
       "h5": {
        "font-family": "Lato"
       },
       "h6": {
        "font-family": "Lato"
       },
       "h7": {
        "font-family": "Lato"
       },
       "pre": {
        "font-family": "Anonymous Pro",
        "font-size": 4
       }
      },
      "text-base": {
       "font-family": "Merriweather",
       "font-size": 4
      }
     }
    }
   }
  }
 },
 "nbformat": 4,
 "nbformat_minor": 1
}
