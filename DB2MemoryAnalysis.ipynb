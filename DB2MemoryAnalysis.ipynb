{
 "cells": [
  {
   "cell_type": "markdown",
   "metadata": {},
   "source": [
    "This notebook should be launched from a session of jupyter notebook that was launched from a DB2 command window\n",
    "To do this, run an administrator DB2 command window as an administrator and type 'jupyter notebook'\n",
    "\n",
    "Set up the enviornment:"
   ]
  },
  {
   "cell_type": "code",
   "execution_count": 2,
   "metadata": {
    "collapsed": false
   },
   "outputs": [
    {
     "name": "stdout",
     "output_type": "stream",
     "text": [
      "Requirement already satisfied: ipython-sql in c:\\users\\ecrooks\\anaconda3\\lib\\site-packages\n",
      "Requirement already satisfied: sqlparse in c:\\users\\ecrooks\\anaconda3\\lib\\site-packages (from ipython-sql)\n",
      "Requirement already satisfied: six in c:\\users\\ecrooks\\anaconda3\\lib\\site-packages (from ipython-sql)\n",
      "Requirement already satisfied: prettytable in c:\\users\\ecrooks\\anaconda3\\lib\\site-packages (from ipython-sql)\n",
      "Requirement already satisfied: ipython>=1.0 in c:\\users\\ecrooks\\anaconda3\\lib\\site-packages (from ipython-sql)\n",
      "Requirement already satisfied: ipython-genutils>=0.1.0 in c:\\users\\ecrooks\\anaconda3\\lib\\site-packages (from ipython-sql)\n",
      "Requirement already satisfied: sqlalchemy>=0.6.7 in c:\\users\\ecrooks\\anaconda3\\lib\\site-packages (from ipython-sql)\n",
      "Requirement already satisfied: ibm_db in c:\\users\\ecrooks\\appdata\\roaming\\python\\python36\\site-packages\n",
      "Requirement already satisfied: ibm_db_sa in c:\\users\\ecrooks\\appdata\\roaming\\python\\python36\\site-packages\n",
      "Requirement already satisfied: sqlalchemy>=0.7.3 in c:\\users\\ecrooks\\anaconda3\\lib\\site-packages (from ibm_db_sa)\n"
     ]
    }
   ],
   "source": [
    "import sys,os,os.path\n",
    "os.environ['IBM_DB_HOME']='C:\\Program Files\\IBM\\SQLLIB'\n",
    "!pip install ipython-sql\n",
    "!pip install ibm_db \n",
    "!pip install ibm_db_sa"
   ]
  },
  {
   "cell_type": "markdown",
   "metadata": {},
   "source": [
    "Restart the Kernel if this is your first time installing the above. The next steps will fail unless you do this."
   ]
  },
  {
   "cell_type": "markdown",
   "metadata": {},
   "source": [
    "Import the modules and load the SQL magic"
   ]
  },
  {
   "cell_type": "code",
   "execution_count": 1,
   "metadata": {
    "collapsed": false
   },
   "outputs": [],
   "source": [
    "import ibm_db\n",
    "import ibm_db_sa\n",
    "import sqlalchemy\n",
    "%load_ext sql"
   ]
  },
  {
   "cell_type": "markdown",
   "metadata": {},
   "source": [
    "Connect to the database. Change the values of user, host, and password to match your environment. For connection to a local host, use 'localhost' for the host name. Also change the port number and database name in the connection string."
   ]
  },
  {
   "cell_type": "code",
   "execution_count": 4,
   "metadata": {
    "collapsed": false
   },
   "outputs": [
    {
     "data": {
      "text/plain": [
       "'Connected: db2admin@SAMPLE'"
      ]
     },
     "execution_count": 4,
     "metadata": {},
     "output_type": "execute_result"
    }
   ],
   "source": [
    "user='db2admin'\n",
    "host='localhost'\n",
    "# Define filename for passwords\n",
    "filename = 'ember_variables.py'\n",
    "# source the file\n",
    "%run $filename\n",
    "password = LocalDB2password\n",
    "db='SAMPLE'\n",
    "\n",
    "%sql db2+ibm_db://$user:$password@$host:50000/$db"
   ]
  },
  {
   "cell_type": "code",
   "execution_count": 10,
   "metadata": {
    "collapsed": false
   },
   "outputs": [
    {
     "name": "stdout",
     "output_type": "stream",
     "text": [
      "Done.\n"
     ]
    },
    {
     "data": {
      "text/html": [
       "<table>\n",
       "    <tr>\n",
       "        <th>memory_set_type</th>\n",
       "        <th>db_name</th>\n",
       "        <th>used_mb</th>\n",
       "    </tr>\n",
       "    <tr>\n",
       "        <td>APPLICATION</td>\n",
       "        <td>SAMPLE</td>\n",
       "        <td>1</td>\n",
       "    </tr>\n",
       "    <tr>\n",
       "        <td>DATABASE</td>\n",
       "        <td>SAMPLE</td>\n",
       "        <td>147</td>\n",
       "    </tr>\n",
       "    <tr>\n",
       "        <td>DBMS</td>\n",
       "        <td>None</td>\n",
       "        <td>60</td>\n",
       "    </tr>\n",
       "    <tr>\n",
       "        <td>FMP</td>\n",
       "        <td>None</td>\n",
       "        <td>0</td>\n",
       "    </tr>\n",
       "    <tr>\n",
       "        <td>PRIVATE</td>\n",
       "        <td>None</td>\n",
       "        <td>15</td>\n",
       "    </tr>\n",
       "</table>"
      ],
      "text/plain": [
       "[('APPLICATION', 'SAMPLE', 1),\n",
       " ('DATABASE', 'SAMPLE', 147),\n",
       " ('DBMS', None, 60),\n",
       " ('FMP', None, 0),\n",
       " ('PRIVATE', None, 15)]"
      ]
     },
     "execution_count": 10,
     "metadata": {},
     "output_type": "execute_result"
    }
   ],
   "source": [
    "inst_memory=%sql select memory_set_type \\\n",
    "    , db_name \\\n",
    "    , sum(memory_set_used)/1024 as used_mb \\\n",
    "from table(mon_get_memory_set(NULL,NULL,-2)) \\\n",
    "group by memory_set_type, db_name\n",
    "inst_memory"
   ]
  },
  {
   "cell_type": "code",
   "execution_count": 11,
   "metadata": {
    "collapsed": false
   },
   "outputs": [
    {
     "data": {
      "text/plain": [
       "([<matplotlib.patches.Wedge at 0x25103a5d0b8>,\n",
       "  <matplotlib.patches.Wedge at 0x25103a5dd30>,\n",
       "  <matplotlib.patches.Wedge at 0x25103a639b0>,\n",
       "  <matplotlib.patches.Wedge at 0x25103a6a630>,\n",
       "  <matplotlib.patches.Wedge at 0x25103a702b0>],\n",
       " [<matplotlib.text.Text at 0x25103a5d8d0>,\n",
       "  <matplotlib.text.Text at 0x25103a63550>,\n",
       "  <matplotlib.text.Text at 0x25103a6a1d0>,\n",
       "  <matplotlib.text.Text at 0x25103a6ae10>,\n",
       "  <matplotlib.text.Text at 0x25103a70a90>])"
      ]
     },
     "execution_count": 11,
     "metadata": {},
     "output_type": "execute_result"
    },
    {
     "data": {
      "image/png": "[encoded data removed]",
      "text/plain": [
       "<matplotlib.figure.Figure at 0x2510318e5c0>"
      ]
     },
     "metadata": {},
     "output_type": "display_data"
    }
   ],
   "source": [
    "%matplotlib inline\n",
    "inst_memory.pie()"
   ]
  },
  {
   "cell_type": "code",
   "execution_count": 16,
   "metadata": {
    "collapsed": false
   },
   "outputs": [
    {
     "name": "stdout",
     "output_type": "stream",
     "text": [
      "Done.\n"
     ]
    },
    {
     "data": {
      "text/html": [
       "<table>\n",
       "    <tr>\n",
       "        <th>memory_set_type</th>\n",
       "        <th>memory_pool_type</th>\n",
       "        <th>used_mb</th>\n",
       "    </tr>\n",
       "    <tr>\n",
       "        <td>APPLICATION</td>\n",
       "        <td>APPLICATION</td>\n",
       "        <td>0</td>\n",
       "    </tr>\n",
       "    <tr>\n",
       "        <td>APPLICATION</td>\n",
       "        <td>APPL_SHARED</td>\n",
       "        <td>0</td>\n",
       "    </tr>\n",
       "    <tr>\n",
       "        <td>DATABASE</td>\n",
       "        <td>BP</td>\n",
       "        <td>9</td>\n",
       "    </tr>\n",
       "    <tr>\n",
       "        <td>DATABASE</td>\n",
       "        <td>CAT_CACHE</td>\n",
       "        <td>0</td>\n",
       "    </tr>\n",
       "    <tr>\n",
       "        <td>DATABASE</td>\n",
       "        <td>DATABASE</td>\n",
       "        <td>117</td>\n",
       "    </tr>\n",
       "    <tr>\n",
       "        <td>DATABASE</td>\n",
       "        <td>LOCK_MGR</td>\n",
       "        <td>17</td>\n",
       "    </tr>\n",
       "    <tr>\n",
       "        <td>DATABASE</td>\n",
       "        <td>PACKAGE_CACHE</td>\n",
       "        <td>1</td>\n",
       "    </tr>\n",
       "    <tr>\n",
       "        <td>DATABASE</td>\n",
       "        <td>SHARED_SORT</td>\n",
       "        <td>2</td>\n",
       "    </tr>\n",
       "    <tr>\n",
       "        <td>DATABASE</td>\n",
       "        <td>UTILITY</td>\n",
       "        <td>0</td>\n",
       "    </tr>\n",
       "    <tr>\n",
       "        <td>DATABASE</td>\n",
       "        <td>XMLCACHE</td>\n",
       "        <td>0</td>\n",
       "    </tr>\n",
       "</table>"
      ],
      "text/plain": [
       "[('APPLICATION', 'APPLICATION', 0),\n",
       " ('APPLICATION', 'APPL_SHARED', 0),\n",
       " ('DATABASE', 'BP', 9),\n",
       " ('DATABASE', 'CAT_CACHE', 0),\n",
       " ('DATABASE', 'DATABASE', 117),\n",
       " ('DATABASE', 'LOCK_MGR', 17),\n",
       " ('DATABASE', 'PACKAGE_CACHE', 1),\n",
       " ('DATABASE', 'SHARED_SORT', 2),\n",
       " ('DATABASE', 'UTILITY', 0),\n",
       " ('DATABASE', 'XMLCACHE', 0)]"
      ]
     },
     "execution_count": 16,
     "metadata": {},
     "output_type": "execute_result"
    }
   ],
   "source": [
    "db_memory=%sql select memory_set_type \\\n",
    "    , memory_pool_type \\\n",
    "    , sum(memory_pool_used)/1024 as used_mb \\\n",
    "from table(mon_get_memory_pool(NULL,:db,-2)) \\\n",
    "where db_name=:db \\\n",
    "group by memory_set_type, memory_pool_type\n",
    "db_memory"
   ]
  },
  {
   "cell_type": "code",
   "execution_count": 17,
   "metadata": {
    "collapsed": false
   },
   "outputs": [
    {
     "data": {
      "text/plain": [
       "([<matplotlib.patches.Wedge at 0x25103ace9b0>,\n",
       "  <matplotlib.patches.Wedge at 0x25103ad4668>,\n",
       "  <matplotlib.patches.Wedge at 0x25103ada2e8>,\n",
       "  <matplotlib.patches.Wedge at 0x25103adaf28>,\n",
       "  <matplotlib.patches.Wedge at 0x25103ae1ba8>,\n",
       "  <matplotlib.patches.Wedge at 0x25103ae7828>,\n",
       "  <matplotlib.patches.Wedge at 0x25103aec4a8>,\n",
       "  <matplotlib.patches.Wedge at 0x25103af2128>,\n",
       "  <matplotlib.patches.Wedge at 0x25103af2d68>,\n",
       "  <matplotlib.patches.Wedge at 0x25103afa9e8>],\n",
       " [<matplotlib.text.Text at 0x25103ad4208>,\n",
       "  <matplotlib.text.Text at 0x25103ad4e48>,\n",
       "  <matplotlib.text.Text at 0x25103adaac8>,\n",
       "  <matplotlib.text.Text at 0x25103ae1748>,\n",
       "  <matplotlib.text.Text at 0x25103ae73c8>,\n",
       "  <matplotlib.text.Text at 0x25103ae7f28>,\n",
       "  <matplotlib.text.Text at 0x25103aecc88>,\n",
       "  <matplotlib.text.Text at 0x25103af2908>,\n",
       "  <matplotlib.text.Text at 0x25103afa588>,\n",
       "  <matplotlib.text.Text at 0x25103afe208>])"
      ]
     },
     "execution_count": 17,
     "metadata": {},
     "output_type": "execute_result"
    },
    {
     "data": {
      "image/png": "[encoded data removed]",
      "text/plain": [
       "<matplotlib.figure.Figure at 0x2510318ef98>"
      ]
     },
     "metadata": {},
     "output_type": "display_data"
    }
   ],
   "source": [
    "%matplotlib inline\n",
    "db_memory.pie()"
   ]
  },
  {
   "cell_type": "code",
   "execution_count": null,
   "metadata": {
    "collapsed": true
   },
   "outputs": [],
   "source": []
  }
 ],
 "metadata": {
  "anaconda-cloud": {},
  "kernelspec": {
   "display_name": "Python [default]",
   "language": "python",
   "name": "python3"
  },
  "language_info": {
   "codemirror_mode": {
    "name": "ipython",
    "version": 3
   },
   "file_extension": ".py",
   "mimetype": "text/x-python",
   "name": "python",
   "nbconvert_exporter": "python",
   "pygments_lexer": "ipython3",
   "version": "3.5.2"
  }
 },
 "nbformat": 4,
 "nbformat_minor": 1
}
