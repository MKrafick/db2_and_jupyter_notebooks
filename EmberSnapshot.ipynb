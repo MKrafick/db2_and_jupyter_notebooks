{
 "cells": [
  {
   "cell_type": "markdown",
   "metadata": {},
   "source": [
    "This notebook should be launched from a session of jupyter notebook that was launched from a DB2 command window\n",
    "To do this, run an administrator DB2 command window as an administrator and type 'jupyter notebook'\n",
    "\n",
    "Set up the enviornment:"
   ]
  },
  {
   "cell_type": "code",
   "execution_count": 2,
   "metadata": {
    "collapsed": false
   },
   "outputs": [
    {
     "name": "stdout",
     "output_type": "stream",
     "text": [
      "Requirement already satisfied: ipython-sql in c:\\users\\ecrooks\\anaconda3\\lib\\site-packages\n",
      "Requirement already satisfied: six in c:\\users\\ecrooks\\anaconda3\\lib\\site-packages (from ipython-sql)\n",
      "Requirement already satisfied: prettytable in c:\\users\\ecrooks\\anaconda3\\lib\\site-packages (from ipython-sql)\n",
      "Requirement already satisfied: sqlparse in c:\\users\\ecrooks\\anaconda3\\lib\\site-packages (from ipython-sql)\n",
      "Requirement already satisfied: sqlalchemy>=0.6.7 in c:\\users\\ecrooks\\anaconda3\\lib\\site-packages (from ipython-sql)\n",
      "Requirement already satisfied: ipython>=1.0 in c:\\users\\ecrooks\\anaconda3\\lib\\site-packages (from ipython-sql)\n",
      "Requirement already satisfied: ipython-genutils>=0.1.0 in c:\\users\\ecrooks\\anaconda3\\lib\\site-packages (from ipython-sql)\n",
      "Requirement already satisfied: ibm_db in c:\\users\\ecrooks\\appdata\\roaming\\python\\python36\\site-packages\n",
      "Requirement already satisfied: ibm_db_sa in c:\\users\\ecrooks\\appdata\\roaming\\python\\python36\\site-packages\n",
      "Requirement already satisfied: sqlalchemy>=0.7.3 in c:\\users\\ecrooks\\anaconda3\\lib\\site-packages (from ibm_db_sa)\n"
     ]
    }
   ],
   "source": [
    "import sys,os,os.path\n",
    "os.environ['IBM_DB_HOME']='C:\\Program Files\\IBM\\SQLLIB'\n",
    "!pip install ipython-sql\n",
    "!pip install ibm_db \n",
    "!pip install ibm_db_sa"
   ]
  },
  {
   "cell_type": "markdown",
   "metadata": {},
   "source": [
    "Restart the Kernel if this is your first time installing the above. The next steps will fail unless you do this."
   ]
  },
  {
   "cell_type": "markdown",
   "metadata": {},
   "source": [
    "Import the modules and load the SQL magic"
   ]
  },
  {
   "cell_type": "code",
   "execution_count": 3,
   "metadata": {
    "collapsed": false
   },
   "outputs": [],
   "source": [
    "import ibm_db\n",
    "import ibm_db_sa\n",
    "import sqlalchemy\n",
    "%load_ext sql\n",
    "from IPython.display import HTML"
   ]
  },
  {
   "cell_type": "code",
   "execution_count": 23,
   "metadata": {
    "collapsed": false
   },
   "outputs": [
    {
     "data": {
      "text/html": [
       "<script>\n",
       "code_show=true; \n",
       "function code_toggle() {\n",
       " if (code_show){\n",
       " $('div.input').hide();\n",
       " } else {\n",
       " $('div.input').show();\n",
       " }\n",
       " code_show = !code_show\n",
       "} \n",
       "$( document ).ready(code_toggle);\n",
       "</script>\n",
       "The raw code for this IPython notebook is by default hidden for easier reading.\n",
       "To toggle on/off the raw code, click <a href=\"javascript:code_toggle()\">here</a>."
      ],
      "text/plain": [
       "<IPython.core.display.HTML object>"
      ]
     },
     "execution_count": 23,
     "metadata": {},
     "output_type": "execute_result"
    }
   ],
   "source": [
    "## Hide code cells\n",
    "HTML('''<script>\n",
    "code_show=true; \n",
    "function code_toggle() {\n",
    " if (code_show){\n",
    " $('div.input').hide();\n",
    " } else {\n",
    " $('div.input').show();\n",
    " }\n",
    " code_show = !code_show\n",
    "} \n",
    "$( document ).ready(code_toggle);\n",
    "</script>\n",
    "The raw code for this IPython notebook is by default hidden for easier reading.\n",
    "To toggle on/off the raw code, click <a href=\"javascript:code_toggle()\">here</a>.''')"
   ]
  },
  {
   "cell_type": "markdown",
   "metadata": {},
   "source": [
    "Connect to the database. Change the values of user, host, and password to match your environment. For connection to a local host, use 'localhost' for the host name. Also change the port number and database name in the connection string."
   ]
  },
  {
   "cell_type": "code",
   "execution_count": 4,
   "metadata": {
    "collapsed": false
   },
   "outputs": [
    {
     "data": {
      "text/plain": [
       "'Connected: db2admin@SAMPLE'"
      ]
     },
     "execution_count": 4,
     "metadata": {},
     "output_type": "execute_result"
    }
   ],
   "source": [
    "user='db2admin'\n",
    "host='localhost'\n",
    "# Define filename for passwords\n",
    "filename = 'ember_variables.py'\n",
    "# source the file\n",
    "%run $filename\n",
    "password = LocalDB2password\n",
    "port=50000\n",
    "db='SAMPLE'\n",
    "%sql db2+ibm_db://$user:$password@$host:$port/$db"
   ]
  },
  {
   "cell_type": "code",
   "execution_count": null,
   "metadata": {
    "collapsed": true
   },
   "outputs": [],
   "source": []
  },
  {
   "cell_type": "markdown",
   "metadata": {},
   "source": [
    "# Db2 Snapshot\n",
    "Ember's snapshot for Db2 (LUW)"
   ]
  },
  {
   "cell_type": "markdown",
   "metadata": {},
   "source": [
    "## Instance Uptime"
   ]
  },
  {
   "cell_type": "code",
   "execution_count": 7,
   "metadata": {
    "collapsed": false
   },
   "outputs": [
    {
     "name": "stdout",
     "output_type": "stream",
     "text": [
      "\n",
      "Database Member 0 -- Active -- Up 4 days 02:04:38 -- Date 2017-07-28-09.25.16.250000\n",
      "\n"
     ]
    }
   ],
   "source": [
    "!db2pd -"
   ]
  },
  {
   "cell_type": "markdown",
   "metadata": {},
   "source": [
    "## Database active since"
   ]
  },
  {
   "cell_type": "code",
   "execution_count": 8,
   "metadata": {
    "collapsed": false
   },
   "outputs": [
    {
     "name": "stdout",
     "output_type": "stream",
     "text": [
      "Done.\n"
     ]
    },
    {
     "data": {
      "text/html": [
       "<table>\n",
       "    <tr>\n",
       "        <th>db_conn_time</th>\n",
       "    </tr>\n",
       "    <tr>\n",
       "        <td>2017-07-27 18:39:16</td>\n",
       "    </tr>\n",
       "</table>"
      ],
      "text/plain": [
       "[(datetime.datetime(2017, 7, 27, 18, 39, 16),)]"
      ]
     },
     "execution_count": 8,
     "metadata": {},
     "output_type": "execute_result"
    }
   ],
   "source": [
    "%sql select db_conn_time from table(mon_get_database(-2)) as mgd"
   ]
  },
  {
   "cell_type": "markdown",
   "metadata": {},
   "source": [
    "## Five most recent activation times"
   ]
  },
  {
   "cell_type": "code",
   "execution_count": 9,
   "metadata": {
    "collapsed": false,
    "scrolled": true
   },
   "outputs": [
    {
     "name": "stdout",
     "output_type": "stream",
     "text": [
      "Done.\n"
     ]
    },
    {
     "data": {
      "text/html": [
       "<table>\n",
       "    <tr>\n",
       "        <th>TIMESTAMP</th>\n",
       "        <th>timezone</th>\n",
       "        <th>instancename</th>\n",
       "        <th>DBPARTITIONNUM</th>\n",
       "        <th>dbname</th>\n",
       "        <th>pid</th>\n",
       "        <th>processname</th>\n",
       "        <th>tid</th>\n",
       "        <th>appl_id</th>\n",
       "        <th>component</th>\n",
       "        <th>FUNCTION</th>\n",
       "        <th>probe</th>\n",
       "        <th>msgnum</th>\n",
       "        <th>msgtype</th>\n",
       "        <th>msgseverity</th>\n",
       "        <th>msg</th>\n",
       "        <th>MEMBER</th>\n",
       "    </tr>\n",
       "</table>"
      ],
      "text/plain": [
       "[]"
      ]
     },
     "execution_count": 9,
     "metadata": {},
     "output_type": "execute_result"
    }
   ],
   "source": [
    "## Not working, come back to it\n",
    "%sql select * \\\n",
    "from table(pd_get_log_msgs(current timestamp - 7 days, -2))\\\n",
    "where DBNAME= :db \n"
   ]
  },
  {
   "cell_type": "markdown",
   "metadata": {
    "collapsed": true
   },
   "source": [
    "## Last Succesful Backup"
   ]
  },
  {
   "cell_type": "code",
   "execution_count": 10,
   "metadata": {
    "collapsed": false
   },
   "outputs": [
    {
     "name": "stdout",
     "output_type": "stream",
     "text": [
      "Done.\n"
     ]
    },
    {
     "data": {
      "text/html": [
       "<table>\n",
       "    <tr>\n",
       "        <th>TYPE</th>\n",
       "        <th>backup_time</th>\n",
       "    </tr>\n",
       "    <tr>\n",
       "        <td>ONLINE</td>\n",
       "        <td>2017-04-24 13:01:13</td>\n",
       "    </tr>\n",
       "</table>"
      ],
      "text/plain": [
       "[('ONLINE', '2017-04-24 13:01:13')]"
      ]
     },
     "execution_count": 10,
     "metadata": {},
     "output_type": "execute_result"
    }
   ],
   "source": [
    "%sql with ts as (select EID from sysibmadm.db_history where start_time = (select max(timestamp(start_time)) as ts  \\\n",
    "\t\tfrom sysibmadm.db_history \\\n",
    "\t\twhere operation='B' and SQLCODE is NULL)\\\n",
    "\t) \\\n",
    "select case \\\n",
    "\t\twhen operationtype = 'D' then 'DELTA_OFFLINE'\\\n",
    "\t\twhen operationtype = 'E' then 'DELTA_ONLINE' \\\n",
    "\t\twhen operationtype = 'F' then 'OFFLINE' \\\n",
    "\t\twhen operationtype = 'I' then 'INCR_OFFLINE' \\\n",
    "\t\twhen operationtype = 'N' then 'ONLINE' \\\n",
    "\t\twhen operationtype = 'O' then 'INCR_ONLINE' \\\n",
    "\t\telse operationtype \\\n",
    "\tend as type \\\n",
    "        , to_char(timestamp(start_time), 'YYYY-MM-DD HH24:MI:SS')  as backup_time \\\n",
    "FROM sysibmadm.db_history dh \\\n",
    "\tjoin ts on dh.eid = ts.eid \\\n",
    "ORDER BY start_time desc \\\n",
    "fetch first 1 row only"
   ]
  },
  {
   "cell_type": "markdown",
   "metadata": {},
   "source": [
    "## HADR details"
   ]
  },
  {
   "cell_type": "code",
   "execution_count": 11,
   "metadata": {
    "collapsed": false
   },
   "outputs": [
    {
     "name": "stdout",
     "output_type": "stream",
     "text": [
      "Done.\n"
     ]
    },
    {
     "data": {
      "text/html": [
       "<table>\n",
       "    <tr>\n",
       "        <th>hadr_role</th>\n",
       "        <th>hadr_state</th>\n",
       "        <th>hadr_connect_status</th>\n",
       "        <th>hadr_log_gap</th>\n",
       "    </tr>\n",
       "</table>"
      ],
      "text/plain": [
       "[]"
      ]
     },
     "execution_count": 11,
     "metadata": {},
     "output_type": "execute_result"
    }
   ],
   "source": [
    "#untested - test on HADR database\n",
    "%sql select hadr_role \\\n",
    "    , hadr_state \\\n",
    "    , hadr_connect_status \\\n",
    "    , hadr_log_gap \\\n",
    "FROM table(mon_get_hadr(-2))"
   ]
  },
  {
   "cell_type": "markdown",
   "metadata": {},
   "source": [
    "## Tablespaces"
   ]
  },
  {
   "cell_type": "code",
   "execution_count": 12,
   "metadata": {
    "collapsed": false
   },
   "outputs": [
    {
     "name": "stdout",
     "output_type": "stream",
     "text": [
      "Done.\n"
     ]
    },
    {
     "data": {
      "text/html": [
       "<table>\n",
       "    <tr>\n",
       "        <th>num_tbsps_not_autoresize</th>\n",
       "    </tr>\n",
       "    <tr>\n",
       "        <td>0</td>\n",
       "    </tr>\n",
       "</table>"
      ],
      "text/plain": [
       "[(0,)]"
      ]
     },
     "execution_count": 12,
     "metadata": {},
     "output_type": "execute_result"
    }
   ],
   "source": [
    "%sql select count(*) as NUM_TBSPS_NOT_AUTORESIZE \\\n",
    "FROM table(mon_get_tablespace(NULL,-2)) \\\n",
    "WHERE TBSP_AUTO_RESIZE_ENABLED=0 \\\n",
    "    AND TBSP_TYPE='DMS'"
   ]
  },
  {
   "cell_type": "code",
   "execution_count": 13,
   "metadata": {
    "collapsed": false
   },
   "outputs": [
    {
     "name": "stdout",
     "output_type": "stream",
     "text": [
      "Done.\n"
     ]
    },
    {
     "data": {
      "text/html": [
       "<table>\n",
       "    <tr>\n",
       "        <th>tbsp_name</th>\n",
       "        <th>pct_full</th>\n",
       "    </tr>\n",
       "</table>"
      ],
      "text/plain": [
       "[]"
      ]
     },
     "execution_count": 13,
     "metadata": {},
     "output_type": "execute_result"
    }
   ],
   "source": [
    "%sql select tbsp_name \\\n",
    "    , decimal(float(tbsp_used_pages)/float(tbsp_usable_pages),5,2) as pct_full \\\n",
    "FROM table(mon_get_tablespace(NULL,-2)) \\\n",
    "WHERE TBSP_TYPE='DMS' \\\n",
    "    AND (TBSP_AUTO_RESIZE_ENABLED=0 OR TBSP_LAST_RESIZE_FAILED=1)"
   ]
  },
  {
   "cell_type": "markdown",
   "metadata": {},
   "source": [
    "## Index Read Efficiency"
   ]
  },
  {
   "cell_type": "code",
   "execution_count": 14,
   "metadata": {
    "collapsed": false
   },
   "outputs": [
    {
     "name": "stdout",
     "output_type": "stream",
     "text": [
      "Done.\n"
     ]
    },
    {
     "data": {
      "text/html": [
       "<table>\n",
       "    <tr>\n",
       "        <th>read_eff</th>\n",
       "    </tr>\n",
       "    <tr>\n",
       "        <td>20</td>\n",
       "    </tr>\n",
       "</table>"
      ],
      "text/plain": [
       "[(Decimal('20'),)]"
      ]
     },
     "execution_count": 14,
     "metadata": {},
     "output_type": "execute_result"
    }
   ],
   "source": [
    "%sql select decimal(float(rows_read)/float(rows_returned),10,0) read_eff \\\n",
    "from table(mon_get_database(-2)) as mgd"
   ]
  },
  {
   "cell_type": "markdown",
   "metadata": {},
   "source": [
    "## Buffer Pool Hit Ratios"
   ]
  },
  {
   "cell_type": "code",
   "execution_count": 15,
   "metadata": {
    "collapsed": false
   },
   "outputs": [
    {
     "name": "stdout",
     "output_type": "stream",
     "text": [
      "Done.\n"
     ]
    },
    {
     "data": {
      "text/html": [
       "<table>\n",
       "    <tr>\n",
       "        <th>bp_name</th>\n",
       "        <th>total_l_reads</th>\n",
       "        <th>data_hit_ratio_percent</th>\n",
       "        <th>index_hit_ratio_percent</th>\n",
       "        <th>xda_hit_ratio_percent</th>\n",
       "        <th>col_hit_ratio_percent</th>\n",
       "    </tr>\n",
       "    <tr>\n",
       "        <td>IBMDEFAULTBP</td>\n",
       "        <td>30061</td>\n",
       "        <td>98.29</td>\n",
       "        <td>95.11</td>\n",
       "        <td>None</td>\n",
       "        <td>None</td>\n",
       "    </tr>\n",
       "</table>"
      ],
      "text/plain": [
       "[('IBMDEFAULTBP', 30061, Decimal('98.29'), Decimal('95.11'), None, None)]"
      ]
     },
     "execution_count": 15,
     "metadata": {},
     "output_type": "execute_result"
    }
   ],
   "source": [
    "%sql select bpu.bp_name \\\n",
    "    , (pool_data_l_reads + pool_xda_l_reads + pool_index_l_reads) as total_l_reads \\\n",
    "    , data_hit_ratio_percent \\\n",
    "    , index_hit_ratio_percent \\\n",
    "    , xda_hit_ratio_percent \\\n",
    "    , col_hit_ratio_percent \\\n",
    "from sysibmadm.mon_bp_utilization bpu join table(mon_get_bufferpool(NULL,-2)) mgbp \\\n",
    "    on bpu.bp_name=mgbp.bp_name \\\n",
    "WHERE bpu.bp_name not like 'IBMSYS%'"
   ]
  },
  {
   "cell_type": "markdown",
   "metadata": {},
   "source": [
    "## Package Cache"
   ]
  },
  {
   "cell_type": "code",
   "execution_count": 16,
   "metadata": {
    "collapsed": false
   },
   "outputs": [
    {
     "name": "stdout",
     "output_type": "stream",
     "text": [
      "Done.\n"
     ]
    },
    {
     "data": {
      "text/html": [
       "<table>\n",
       "    <tr>\n",
       "        <th>pkg_cache_hitratio</th>\n",
       "        <th>pkg_cache_num_overflows</th>\n",
       "    </tr>\n",
       "    <tr>\n",
       "        <td>90.64</td>\n",
       "        <td>4</td>\n",
       "    </tr>\n",
       "</table>"
      ],
      "text/plain": [
       "[(Decimal('90.64'), 4)]"
      ]
     },
     "execution_count": 16,
     "metadata": {},
     "output_type": "execute_result"
    }
   ],
   "source": [
    "%sql select decimal((1-(float(pkg_cache_inserts)/float(pkg_cache_lookups)))*100,5,2) as pkg_cache_hitratio \\\n",
    "    , pkg_cache_num_overflows \\\n",
    "from table(mon_get_database(-2)) as mgd"
   ]
  },
  {
   "cell_type": "markdown",
   "metadata": {},
   "source": [
    "## Catalog Cache"
   ]
  },
  {
   "cell_type": "code",
   "execution_count": 17,
   "metadata": {
    "collapsed": false
   },
   "outputs": [
    {
     "name": "stdout",
     "output_type": "stream",
     "text": [
      "Done.\n"
     ]
    },
    {
     "data": {
      "text/html": [
       "<table>\n",
       "    <tr>\n",
       "        <th>cat_cache_hitratio</th>\n",
       "        <th>cat_cache_overflows</th>\n",
       "    </tr>\n",
       "    <tr>\n",
       "        <td>98.74</td>\n",
       "        <td>0</td>\n",
       "    </tr>\n",
       "</table>"
      ],
      "text/plain": [
       "[(Decimal('98.74'), 0)]"
      ]
     },
     "execution_count": 17,
     "metadata": {},
     "output_type": "execute_result"
    }
   ],
   "source": [
    "%sql select decimal((1-(float(cat_cache_inserts)/float(cat_cache_lookups)))*100,5,2) as cat_cache_hitratio \\\n",
    "    , cat_cache_overflows \\\n",
    "from table(mon_get_database(-2)) as mgd"
   ]
  },
  {
   "cell_type": "markdown",
   "metadata": {},
   "source": [
    "## Transaction Logs"
   ]
  },
  {
   "cell_type": "code",
   "execution_count": 18,
   "metadata": {
    "collapsed": false
   },
   "outputs": [
    {
     "name": "stdout",
     "output_type": "stream",
     "text": [
      "Done.\n"
     ]
    },
    {
     "data": {
      "text/html": [
       "<table>\n",
       "    <tr>\n",
       "        <th>tot_log_use_pct</th>\n",
       "        <th>sec_logs_allocated</th>\n",
       "        <th>sec_log_used_top</th>\n",
       "        <th>log_reads</th>\n",
       "        <th>log_writes</th>\n",
       "    </tr>\n",
       "    <tr>\n",
       "        <td>2.01</td>\n",
       "        <td>0</td>\n",
       "        <td>0</td>\n",
       "        <td>0</td>\n",
       "        <td>1064</td>\n",
       "    </tr>\n",
       "</table>"
      ],
      "text/plain": [
       "[(Decimal('2.01'), 0, 0, 0, 1064)]"
      ]
     },
     "execution_count": 18,
     "metadata": {},
     "output_type": "execute_result"
    }
   ],
   "source": [
    "%sql select decimal(100*(float(total_log_used)/float(total_log_available)),5,2) as tot_log_use_pct \\\n",
    "    , sec_logs_allocated \\\n",
    "    , sec_log_used_top \\\n",
    "    , log_reads \\\n",
    "    , log_writes \\\n",
    "from table(mon_get_transaction_log(-2)) as mgtl"
   ]
  },
  {
   "cell_type": "code",
   "execution_count": 19,
   "metadata": {
    "collapsed": false
   },
   "outputs": [
    {
     "name": "stdout",
     "output_type": "stream",
     "text": [
      "Done.\n"
     ]
    },
    {
     "data": {
      "text/html": [
       "<table>\n",
       "    <tr>\n",
       "        <th>avg_arch_per_hour</th>\n",
       "        <th>max_arch_in_hour</th>\n",
       "        <th>min_arch_in_hour</th>\n",
       "    </tr>\n",
       "    <tr>\n",
       "        <td>2</td>\n",
       "        <td>2</td>\n",
       "        <td>2</td>\n",
       "    </tr>\n",
       "</table>"
      ],
      "text/plain": [
       "[(2, 2, 2)]"
      ]
     },
     "execution_count": 19,
     "metadata": {},
     "output_type": "execute_result"
    }
   ],
   "source": [
    "%sql with t1 as (select substr(start_time, 1, 10) as ts \\\n",
    "  ,count(*) as archives \\\n",
    "from sysibmadm.db_history \\\n",
    "where operation = 'X' \\\n",
    "   and start_time > current timestamp - 7 days \\\n",
    "group by substr(start_time, 1, 10) ) \\\n",
    "select avg(archives) as avg_arch_per_hour \\\n",
    "    , max(archives) as max_arch_in_hour \\\n",
    "    , min(archives) as min_arch_in_hour \\\n",
    "from t1 \\"
   ]
  },
  {
   "cell_type": "markdown",
   "metadata": {},
   "source": [
    "## Locking"
   ]
  },
  {
   "cell_type": "code",
   "execution_count": 20,
   "metadata": {
    "collapsed": false
   },
   "outputs": [
    {
     "name": "stdout",
     "output_type": "stream",
     "text": [
      "Done.\n"
     ]
    },
    {
     "data": {
      "text/html": [
       "<table>\n",
       "    <tr>\n",
       "        <th>deadlocks</th>\n",
       "        <th>lock_timeouts</th>\n",
       "        <th>lock_escals</th>\n",
       "    </tr>\n",
       "    <tr>\n",
       "        <td>0</td>\n",
       "        <td>0</td>\n",
       "        <td>0</td>\n",
       "    </tr>\n",
       "</table>"
      ],
      "text/plain": [
       "[(0, 0, 0)]"
      ]
     },
     "execution_count": 20,
     "metadata": {},
     "output_type": "execute_result"
    }
   ],
   "source": [
    "%sql select deadlocks \\\n",
    "    , lock_timeouts \\\n",
    "    , lock_escals \\\n",
    "from table(mon_get_database(-2)) as mgd"
   ]
  },
  {
   "cell_type": "markdown",
   "metadata": {},
   "source": [
    "## Sorts"
   ]
  },
  {
   "cell_type": "code",
   "execution_count": 21,
   "metadata": {
    "collapsed": false
   },
   "outputs": [
    {
     "name": "stdout",
     "output_type": "stream",
     "text": [
      "Done.\n"
     ]
    },
    {
     "data": {
      "text/html": [
       "<table>\n",
       "    <tr>\n",
       "        <th>sort_overflow_pct</th>\n",
       "    </tr>\n",
       "    <tr>\n",
       "        <td>0.00</td>\n",
       "    </tr>\n",
       "</table>"
      ],
      "text/plain": [
       "[(Decimal('0.00'),)]"
      ]
     },
     "execution_count": 21,
     "metadata": {},
     "output_type": "execute_result"
    }
   ],
   "source": [
    "%sql select decimal(float(sort_overflows)/float(total_sorts),5,2) as sort_overflow_pct \\\n",
    "from table(mon_get_database(-2)) as mgd"
   ]
  },
  {
   "cell_type": "code",
   "execution_count": null,
   "metadata": {
    "collapsed": true
   },
   "outputs": [],
   "source": []
  }
 ],
 "metadata": {
  "anaconda-cloud": {},
  "kernelspec": {
   "display_name": "Python 3",
   "language": "python",
   "name": "python3"
  },
  "language_info": {
   "codemirror_mode": {
    "name": "ipython",
    "version": 3
   },
   "file_extension": ".py",
   "mimetype": "text/x-python",
   "name": "python",
   "nbconvert_exporter": "python",
   "pygments_lexer": "ipython3",
   "version": "3.6.0"
  }
 },
 "nbformat": 4,
 "nbformat_minor": 1
}
